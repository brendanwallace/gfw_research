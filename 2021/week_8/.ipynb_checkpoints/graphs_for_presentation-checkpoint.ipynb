{
 "cells": [
  {
   "cell_type": "markdown",
   "metadata": {},
   "source": [
    "# week 8\n",
    "\n",
    "## goals:\n",
    "- \n",
    "\n",
    "## todo\n",
    "- \n",
    "\n",
    "\n",
    "## notes:\n",
    "\n",
    "looked at:\n",
    "- Pacific Islands (PIPA)\n",
    "- Palau National Marine Sanctuary\n",
    "- Natural Park of the Coral Seas\n",
    "\n",
    "\n",
    "- Ross Sea\n",
    "- PIPA\n",
    "- PMNM\n",
    "- south/central pacific ocean\n",
    "- pick out the 5 from Tim White's paper:\n",
    "    - PIPA - 2010, expanded 2014 <-- some actual results here\n",
    "    - Pacific Remote Islands - 2009, expanded 2014 (not enough effort)\n",
    "    - PMNM - yes but low fishing effort (3258 hours, 2016)\n",
    "    - Pitcairn Islands - yes but low (101 hours, 2016)\n",
    "    - Nazca-Desventuradas - yes but low (68 hours, 2016)\n",
    "    \n",
    "Actual good ones:\n",
    "- Natural Park of the Coral Seas, 2014 555577562, further off the east coast of Australia\n",
    "- Marae Moana/Cook Islands, 2017 555624907 - maybe the best one - middle of the Pacific\n",
    "- French Austral Lands and Seas, 2019 555697868 - south-east of Africa\n",
    "- Arquipélago Submarino Do Meteor, 2016 555514087 - Atlantic ocean Y shaped area\n",
    "- Coral Sea, 2018 555556875 just off the east coast of Australia\n",
    "- Pacífico Mexicano Profundo, 2018 555624307 southwest Mexican coast\n",
    "- Palau National Marine Sanctuary, 2015, 555622118 oceania (near indonesia, phillippines) \n",
    "\n",
    "\n",
    "A bunch of these at the top are coastal around Spain/France:\n",
    "- Espacio marino del Delta de l'Ebre-Illes Columbretes 2014\n",
    "- Espacio marino de la Costa da Morte 2014\n",
    "- Pertuis charentais - Rochebonne 2019\n",
    "\n",
    "\n"
   ]
  },
  {
   "cell_type": "code",
   "execution_count": 1,
   "metadata": {},
   "outputs": [
    {
     "name": "stdout",
     "output_type": "stream",
     "text": [
      "/Users/brendan/Masters/gfw_research\n"
     ]
    }
   ],
   "source": [
    "cd /Users/brendan/Masters/gfw_research"
   ]
  },
  {
   "cell_type": "code",
   "execution_count": 2,
   "metadata": {},
   "outputs": [],
   "source": [
    "import numpy as np\n",
    "import pandas\n",
    "import matplotlib.pyplot as plt\n",
    "import geopandas\n",
    "\n",
    "import util \n",
    "\n",
    "pandas.set_option('display.max_columns', None)\n",
    "pandas.set_option('display.max_rows', None)"
   ]
  },
  {
   "cell_type": "code",
   "execution_count": null,
   "metadata": {},
   "outputs": [
    {
     "name": "stdout",
     "output_type": "stream",
     "text": [
      "loading mpas: 3/3 done.\n",
      "loading points\n",
      " 2015-12-01.csv 149/1827"
     ]
    }
   ],
   "source": [
    "# Load the data\n",
    "mpas = util.load_mpas()\n",
    "full_points = util.load_points()"
   ]
  },
  {
   "cell_type": "code",
   "execution_count": null,
   "metadata": {},
   "outputs": [],
   "source": [
    "aggregated = util.join_on_lat_lon(full_points)\n",
    "geopoints = util.convert_to_geo(aggregated)"
   ]
  }
 ],
 "metadata": {
  "kernelspec": {
   "display_name": "Python 3",
   "language": "python",
   "name": "python3"
  },
  "language_info": {
   "codemirror_mode": {
    "name": "ipython",
    "version": 3
   },
   "file_extension": ".py",
   "mimetype": "text/x-python",
   "name": "python",
   "nbconvert_exporter": "python",
   "pygments_lexer": "ipython3",
   "version": "3.9.1"
  }
 },
 "nbformat": 4,
 "nbformat_minor": 4
}
