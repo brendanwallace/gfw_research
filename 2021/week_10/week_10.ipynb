{
 "cells": [
  {
   "cell_type": "markdown",
   "metadata": {},
   "source": [
    "# week 10\n",
    "\n",
    "## goals:\n",
    "- \n",
    "\n",
    "## todo\n",
    "- \n",
    "\n",
    "\n",
    "## notes:\n",
    "\n",
    "looked at:\n",
    "- Pacific Islands (PIPA)\n",
    "- Palau National Marine Sanctuary\n",
    "- Natural Park of the Coral Seas\n",
    "\n",
    "\n",
    "- Ross Sea\n",
    "- PIPA\n",
    "- PMNM\n",
    "- south/central pacific ocean\n",
    "- pick out the 5 from Tim White's paper:\n",
    "    - PIPA - 2010, expanded 2014 <-- some actual results here\n",
    "    - Pacific Remote Islands - 2009, expanded 2014 (not enough effort)\n",
    "    - PMNM - yes but low fishing effort (3258 hours, 2016)\n",
    "    - Pitcairn Islands - yes but low (101 hours, 2016)\n",
    "    - Nazca-Desventuradas - yes but low (68 hours, 2016)\n",
    "    \n",
    "Actual good ones:\n",
    "- Natural Park of the Coral Seas, 2014 555577562, further off the east coast of Australia\n",
    "- Marae Moana/Cook Islands, 2017 555624907 - maybe the best one - middle of the Pacific\n",
    "- French Austral Lands and Seas, 2019 555697868 - south-east of Africa\n",
    "- Arquipélago Submarino Do Meteor, 2016 555514087 - Atlantic ocean Y shaped area\n",
    "- Coral Sea, 2018 555556875 just off the east coast of Australia\n",
    "- Pacífico Mexicano Profundo, 2018 555624307 southwest Mexican coast\n",
    "- Palau National Marine Sanctuary, 2015, 555622118 oceania (near indonesia, phillippines) \n",
    "\n",
    "\n",
    "A bunch of these at the top are coastal around Spain/France:\n",
    "- Espacio marino del Delta de l'Ebre-Illes Columbretes 2014\n",
    "- Espacio marino de la Costa da Morte 2014\n",
    "- Pertuis charentais - Rochebonne 2019\n",
    "\n",
    "\n"
   ]
  },
  {
   "cell_type": "code",
   "execution_count": 1,
   "metadata": {},
   "outputs": [],
   "source": [
    "%load_ext autoreload"
   ]
  },
  {
   "cell_type": "code",
   "execution_count": 2,
   "metadata": {},
   "outputs": [],
   "source": [
    "%autoreload 2"
   ]
  },
  {
   "cell_type": "code",
   "execution_count": 3,
   "metadata": {},
   "outputs": [
    {
     "name": "stdout",
     "output_type": "stream",
     "text": [
      "/Users/brendan/Masters/gfw_research\n"
     ]
    }
   ],
   "source": [
    "cd /Users/brendan/Masters/gfw_research"
   ]
  },
  {
   "cell_type": "code",
   "execution_count": 4,
   "metadata": {},
   "outputs": [],
   "source": [
    "import numpy as np\n",
    "import pandas\n",
    "from datetime import datetime\n",
    "import matplotlib.pyplot as plt\n",
    "import os\n",
    "import pywdpa\n",
    "import geopandas\n",
    "import contextily as ctx\n",
    "from shapely import geometry\n",
    "import pretty_html_table\n",
    "\n",
    "import util\n",
    "\n",
    "pandas.set_option('display.max_columns', None)\n",
    "# pandas.set_option('display.max_rows', None)"
   ]
  },
  {
   "cell_type": "code",
   "execution_count": 5,
   "metadata": {},
   "outputs": [],
   "source": [
    "def load_year(year):\n",
    "    year = str(year)\n",
    "    print(f'\\r reading year {year}', end='')\n",
    "    return pandas.read_parquet(\"data/\" + year + \".parquet\")"
   ]
  },
  {
   "cell_type": "code",
   "execution_count": 6,
   "metadata": {},
   "outputs": [
    {
     "name": "stdout",
     "output_type": "stream",
     "text": [
      " reading year 2020"
     ]
    }
   ],
   "source": [
    "points_by_year = {\n",
    "    year : load_year(year)\n",
    "    for year in range(2012, 2021)\n",
    "}\n"
   ]
  },
  {
   "cell_type": "code",
   "execution_count": 7,
   "metadata": {},
   "outputs": [],
   "source": [
    "#mpas = util.load_mpas()\n",
    "mpas = geopandas.read_parquet(\"data/mpas.parquet\")"
   ]
  },
  {
   "cell_type": "code",
   "execution_count": 8,
   "metadata": {},
   "outputs": [
    {
     "name": "stdout",
     "output_type": "stream",
     "text": [
      "sampling 2020... done.\n",
      "converting to geo...  done.\n"
     ]
    }
   ],
   "source": [
    "# sample the points here before converting to geo\n",
    "# use the sampled points to find the mmsi that are interesting\n",
    "# only then should we get all of the points of relevent mmsi\n",
    "\n",
    "SAMPLE_RATIO = 100\n",
    "points_sampled = []\n",
    "for year, points in points_by_year.items():\n",
    "    print(f'\\rsampling {str(year)}... ', end='')\n",
    "    points_sampled.append(points.sample(frac=1/SAMPLE_RATIO))\n",
    "print('done.')\n",
    "points_sampled = pandas.concat(points_sampled)\n",
    "print(\"converting to geo...  \", end='')\n",
    "geopoints_sampled = util.convert_to_geo(points_sampled, box=True)\n",
    "print(\"done.\")\n"
   ]
  },
  {
   "cell_type": "code",
   "execution_count": null,
   "metadata": {},
   "outputs": [],
   "source": [
    "coral_park = mpas[mpas['WDPAID'] == 555577562.0]\n",
    "coral_park_date = '2014-05-28'\n",
    "coral_park_results = util.analyze_mpa(geopoints_sampled, points_by_year, coral_park, coral_park_date)\n",
    "# coral_park_results[0]"
   ]
  },
  {
   "cell_type": "code",
   "execution_count": null,
   "metadata": {},
   "outputs": [],
   "source": [
    "marae_moana = mpas[mpas['WDPA_PID'] == '555624907_A']\n",
    "marae_moana_results = util.analyze_mpa(geopoints_sampled, points_by_year, marae_moana, '2017-07-13')"
   ]
  },
  {
   "cell_type": "code",
   "execution_count": null,
   "metadata": {
    "scrolled": true
   },
   "outputs": [],
   "source": [
    "pipa = mpas[mpas['WDPAID'] == 555512002.0]\n",
    "pipa_date = '2015-01-01'\n",
    "pipa_results = util.analyze_mpa(geopoints_sampled, points_by_year, pipa, pipa_date, plot_pre_post=False)\n",
    "# pipa_results[0]"
   ]
  },
  {
   "cell_type": "code",
   "execution_count": null,
   "metadata": {},
   "outputs": [],
   "source": [
    "_, _, _, affected_pipa_points = pipa_results\n",
    "daily_effort = affected_pipa_points.groupby(['date'], as_index=False).aggregate({'fishing_hours': 'sum'})"
   ]
  },
  {
   "cell_type": "code",
   "execution_count": null,
   "metadata": {},
   "outputs": [],
   "source": [
    "plt.plot(daily_effort['date'], daily_effort['fishing_hours'])"
   ]
  },
  {
   "cell_type": "code",
   "execution_count": null,
   "metadata": {},
   "outputs": [],
   "source": [
    "table = pipa_results[0]\n",
    "mmsi_of_interest = table[table['in_pre'] > 1000]['mmsi']\n",
    "points_of_interest = affected_pipa_points[affected_pipa_points['mmsi'].isin(mmsi_of_interest)]"
   ]
  },
  {
   "cell_type": "code",
   "execution_count": null,
   "metadata": {},
   "outputs": [],
   "source": [
    "daily_effort = points_of_interest.groupby(['date'], as_index=False).aggregate({'fishing_hours': 'sum'})"
   ]
  },
  {
   "cell_type": "code",
   "execution_count": null,
   "metadata": {
    "scrolled": true
   },
   "outputs": [],
   "source": [
    "plt.plot(daily_effort['date'], daily_effort['fishing_hours'])"
   ]
  },
  {
   "cell_type": "code",
   "execution_count": null,
   "metadata": {},
   "outputs": [],
   "source": [
    "x = daily_effort['date']\n",
    "y = daily_effort['fishing_hours']"
   ]
  },
  {
   "cell_type": "code",
   "execution_count": null,
   "metadata": {},
   "outputs": [],
   "source": [
    "window = 30\n",
    "z = np.zeros(len(y) - window)\n",
    "for i in range(len(y) - window):\n",
    "    z[i] = sum(y[i:i+window])/window"
   ]
  },
  {
   "cell_type": "code",
   "execution_count": null,
   "metadata": {},
   "outputs": [],
   "source": [
    "plt.plot(x[:-window], z)"
   ]
  },
  {
   "cell_type": "code",
   "execution_count": null,
   "metadata": {},
   "outputs": [],
   "source": [
    "baseline_effort = points_sampled.groupby(['date'], as_index=False).aggregate({'fishing_hours': 'sum'})"
   ]
  },
  {
   "cell_type": "code",
   "execution_count": null,
   "metadata": {},
   "outputs": [],
   "source": [
    "def plot_effort(effort, window=30):\n",
    "    x = effort['date']\n",
    "    y = effort['fishing_hours']\n",
    "    z = np.zeros(len(y) - window)\n",
    "    for i in range(len(y) - window):\n",
    "        z[i] = sum(y[i:i+window])/window\n",
    "    plt.plot(x[:-window], z)"
   ]
  },
  {
   "cell_type": "code",
   "execution_count": null,
   "metadata": {},
   "outputs": [],
   "source": [
    "plot_effort(baseline_effort)"
   ]
  },
  {
   "cell_type": "code",
   "execution_count": null,
   "metadata": {},
   "outputs": [],
   "source": [
    "marae_moana = mpas[mpas['WDPA_PID'] == '555624907_A']\n",
    "marae_moana_points = util.points_of_interest(geopoints_sampled, points_by_year, marae_moana, '2017-07-13')\n",
    "daily_marae_effort = marae_moana_points.groupby(['date'], as_index=False).aggregate({'fishing_hours': 'sum'})"
   ]
  },
  {
   "cell_type": "code",
   "execution_count": null,
   "metadata": {},
   "outputs": [],
   "source": [
    "plot_effort(daily_marae_effort)"
   ]
  },
  {
   "cell_type": "code",
   "execution_count": null,
   "metadata": {},
   "outputs": [],
   "source": []
  }
 ],
 "metadata": {
  "kernelspec": {
   "display_name": "Python 3 (ipykernel)",
   "language": "python",
   "name": "python3"
  },
  "language_info": {
   "codemirror_mode": {
    "name": "ipython",
    "version": 3
   },
   "file_extension": ".py",
   "mimetype": "text/x-python",
   "name": "python",
   "nbconvert_exporter": "python",
   "pygments_lexer": "ipython3",
   "version": "3.9.10"
  }
 },
 "nbformat": 4,
 "nbformat_minor": 4
}
