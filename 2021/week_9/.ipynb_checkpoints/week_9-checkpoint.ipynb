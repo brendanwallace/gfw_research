{
 "cells": [
  {
   "cell_type": "markdown",
   "metadata": {},
   "source": [
    "# week 9\n",
    "\n",
    "## goals:\n",
    "- aggregate fishing effort \n",
    "- get fishing effort into a jupyter notebook\n",
    "\n",
    "## todo\n",
    "- \n",
    "\n",
    "\n",
    "## notes:\n",
    "\n",
    "\n"
   ]
  },
  {
   "cell_type": "code",
   "execution_count": 2,
   "metadata": {},
   "outputs": [
    {
     "name": "stdout",
     "output_type": "stream",
     "text": [
      "/Users/brendan/Masters/gfw_research\n"
     ]
    }
   ],
   "source": [
    "cd /Users/brendan/Masters/gfw_research"
   ]
  },
  {
   "cell_type": "code",
   "execution_count": 6,
   "metadata": {},
   "outputs": [],
   "source": [
    "import pandas\n",
    "import geopandas\n",
    "import pandas_gbq\n",
    "\n",
    "PROJECT_ID = \"world-fishing-827\""
   ]
  },
  {
   "cell_type": "code",
   "execution_count": null,
   "metadata": {},
   "outputs": [],
   "source": [
    "SQL = \"SELECT * FROM `world-fishing-827.gfw_research.pipe_v20190502_fishing` LIMIT 10;\"\n",
    "df = pandas_gbq.read_gbq(sql, project_id=PROJECT_ID)\n"
   ]
  }
 ],
 "metadata": {
  "kernelspec": {
   "display_name": "Python 3",
   "language": "python",
   "name": "python3"
  },
  "language_info": {
   "codemirror_mode": {
    "name": "ipython",
    "version": 3
   },
   "file_extension": ".py",
   "mimetype": "text/x-python",
   "name": "python",
   "nbconvert_exporter": "python",
   "pygments_lexer": "ipython3",
   "version": "3.9.1"
  }
 },
 "nbformat": 4,
 "nbformat_minor": 4
}
