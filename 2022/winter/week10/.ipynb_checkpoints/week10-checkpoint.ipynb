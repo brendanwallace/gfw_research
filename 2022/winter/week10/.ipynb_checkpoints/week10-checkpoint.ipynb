{
 "cells": [
  {
   "cell_type": "markdown",
   "metadata": {},
   "source": [
    "# winter 2022 week03\n",
    "\n",
    "## goals:\n",
    "\n",
    "reload the data\n",
    "run util/load_data.py convert_all() function -- which loads everything and converts it to parquet\n",
    "\n",
    "## todo\n",
    "- ~add PIPA to list of interesting ones (57 -> 58)~\n",
    "- ~figure out how to get the thing to run faster (try to just use geopoints_sampled in analyze)~\n",
    "- ~final count of reduced fishing~\n",
    "- run the analyze thing over those 7/8\n",
    "- make those charts of in/out fishing effort of individual ships for those 7/8\n",
    "- make pictures of before/after fishing effort of individual ships for those 7/8 (could use consistent colors)\n",
    "\n",
    "THEN:\n",
    "- ~make ~table~ scatter-plot of (low, low), (low, high), (high, low), (high, high). etc. of the 171~\n",
    "- ~make table of (?, low), (?, high) of all the other ones~\n",
    "- try to categorize the mpas (sum up area and #, etc.)\n",
    "\n",
    "### of the 171:\n",
    "- about 14 showed notable decrease in both # hours and %\n",
    "- significant number (>100) of the 171 had no effort in before or after\n",
    "- very small number (3) showed a modest increase in % internal effort\n",
    "(should I quantify this by marine area?)\n",
    "- any sort of before/after pictures helpful? (at least make the before/after effort plots)\n",
    "- decide on criteria: % decrease by at least something\n",
    "- for all the matching ones, do a before/after\n",
    "\n",
    "\n",
    "\n",
    "AND THEN:\n",
    "- compare to the paper about 5 MPAs\n",
    "- email Dan to show him everything\n",
    "- title: what can GFW data tell us about the true protection of MPA?\n",
    "- two effective scenarios: (high, low) and (low, low) ~= (?, low)\n",
    "\n",
    "\n",
    "## notes:\n",
    "\n"
   ]
  },
  {
   "cell_type": "code",
   "execution_count": 1,
   "metadata": {},
   "outputs": [],
   "source": [
    "%load_ext autoreload"
   ]
  },
  {
   "cell_type": "code",
   "execution_count": 2,
   "metadata": {},
   "outputs": [],
   "source": [
    "%autoreload 2"
   ]
  },
  {
   "cell_type": "code",
   "execution_count": 3,
   "metadata": {},
   "outputs": [
    {
     "name": "stdout",
     "output_type": "stream",
     "text": [
      "/Users/brendan/Documents/projects/mpa_project/gfw_research\n"
     ]
    }
   ],
   "source": [
    "cd /Users/brendan/Documents/projects/mpa_project/gfw_research"
   ]
  },
  {
   "cell_type": "code",
   "execution_count": 4,
   "metadata": {},
   "outputs": [
    {
     "name": "stderr",
     "output_type": "stream",
     "text": [
      "/opt/homebrew/lib/python3.9/site-packages/geopandas/_compat.py:111: UserWarning: The Shapely GEOS version (3.10.2-CAPI-1.16.0) is incompatible with the GEOS version PyGEOS was compiled with (3.10.1-CAPI-1.16.0). Conversions between both will be slow.\n",
      "  warnings.warn(\n"
     ]
    }
   ],
   "source": [
    "import numpy as np\n",
    "import pandas\n",
    "from datetime import datetime\n",
    "import matplotlib.pyplot as plt\n",
    "import os\n",
    "import pywdpa\n",
    "import geopandas\n",
    "import contextily as ctx\n",
    "from shapely import geometry\n",
    "from shapely import ops\n",
    "import pretty_html_table\n",
    "import cProfile\n",
    "\n",
    "import util\n",
    "\n",
    "pandas.set_option('display.max_columns', None)\n",
    "pandas.set_option('display.max_rows', None)"
   ]
  },
  {
   "cell_type": "code",
   "execution_count": 5,
   "metadata": {},
   "outputs": [],
   "source": [
    "DATA_PATH = \"/Users/brendan/Documents/projects/mpa_project/gfw_research/data/\"\n",
    "FILENAME = \"mpatlas_20201223_clean/mpatlas_20201223_clean.shp\"\n",
    "\n",
    "#mpas = geopandas.read_file(DATA_PATH + FILENAME)\n",
    "# util.load_mpatlas_mpas()\n",
    "mpas = geopandas.read_parquet(\"data/mpas/mpatlas.parquet\")"
   ]
  },
  {
   "cell_type": "code",
   "execution_count": 13,
   "metadata": {},
   "outputs": [],
   "source": [
    "def load_year(year):\n",
    "    year = str(year)\n",
    "    print(f'\\r reading year {year}', end='')\n",
    "    return pandas.read_parquet(\"data/points/\" + year + \".parquet\")"
   ]
  },
  {
   "cell_type": "code",
   "execution_count": 14,
   "metadata": {},
   "outputs": [
    {
     "name": "stdout",
     "output_type": "stream",
     "text": [
      " reading year 2020"
     ]
    }
   ],
   "source": [
    "points_by_year = {\n",
    "    year : load_year(year)\n",
    "    for year in range(2012, 2021)\n",
    "}"
   ]
  },
  {
   "cell_type": "code",
   "execution_count": 15,
   "metadata": {},
   "outputs": [
    {
     "name": "stdout",
     "output_type": "stream",
     "text": [
      "sampling 2020... done.\n",
      "converting to geo...  done.\n"
     ]
    }
   ],
   "source": [
    "# sample the points here before converting to geo\n",
    "# use the sampled points to find the mmsi that are interesting\n",
    "# only then should we get all of the points of relevent mmsi\n",
    "\n",
    "SAMPLE_RATIO = 100\n",
    "points_sampled = []\n",
    "for year, points in points_by_year.items():\n",
    "    print(f'\\rsampling {str(year)}... ', end='')\n",
    "    points_sampled.append(points.sample(frac=1/SAMPLE_RATIO))\n",
    "print('done.')\n",
    "points_sampled = pandas.concat(points_sampled)\n",
    "print(\"converting to geo...  \", end='')\n",
    "geopoints_sampled = util.convert_to_geo(points_sampled, box=True)\n",
    "print(\"done.\")\n"
   ]
  },
  {
   "cell_type": "code",
   "execution_count": 27,
   "metadata": {},
   "outputs": [
    {
     "data": {
      "text/html": [
       "<div>\n",
       "<style scoped>\n",
       "    .dataframe tbody tr th:only-of-type {\n",
       "        vertical-align: middle;\n",
       "    }\n",
       "\n",
       "    .dataframe tbody tr th {\n",
       "        vertical-align: top;\n",
       "    }\n",
       "\n",
       "    .dataframe thead th {\n",
       "        text-align: right;\n",
       "    }\n",
       "</style>\n",
       "<table border=\"1\" class=\"dataframe\">\n",
       "  <thead>\n",
       "    <tr style=\"text-align: right;\">\n",
       "      <th></th>\n",
       "      <th>mpa_id</th>\n",
       "      <th>wdpa_id</th>\n",
       "      <th>wdpa_pid</th>\n",
       "      <th>name</th>\n",
       "      <th>country</th>\n",
       "      <th>sovereign</th>\n",
       "      <th>designatio</th>\n",
       "      <th>designat_1</th>\n",
       "      <th>designat_2</th>\n",
       "      <th>iucn_categ</th>\n",
       "      <th>status</th>\n",
       "      <th>status_yea</th>\n",
       "      <th>is_mpa</th>\n",
       "      <th>implemente</th>\n",
       "      <th>implementa</th>\n",
       "      <th>no_take</th>\n",
       "      <th>no_take_ar</th>\n",
       "      <th>rep_m_area</th>\n",
       "      <th>calc_m_are</th>\n",
       "      <th>rep_area</th>\n",
       "      <th>calc_area</th>\n",
       "      <th>gov_type</th>\n",
       "      <th>mgmt_auth</th>\n",
       "      <th>mgmt_plan_</th>\n",
       "      <th>fishing</th>\n",
       "      <th>access</th>\n",
       "      <th>constancy</th>\n",
       "      <th>permanence</th>\n",
       "      <th>SHAPE_Leng</th>\n",
       "      <th>SHAPE_Area</th>\n",
       "      <th>geometry</th>\n",
       "    </tr>\n",
       "  </thead>\n",
       "  <tbody>\n",
       "    <tr>\n",
       "      <th>10124</th>\n",
       "      <td>7705427</td>\n",
       "      <td>555512002</td>\n",
       "      <td>555512002</td>\n",
       "      <td>Phoenix Islands Protected Area</td>\n",
       "      <td>KIR</td>\n",
       "      <td>KIR</td>\n",
       "      <td>World Heritage Site (natural or mixed)</td>\n",
       "      <td>World Heritage Site (natural or mixed)</td>\n",
       "      <td>International</td>\n",
       "      <td>Not Applicable</td>\n",
       "      <td>Inscribed</td>\n",
       "      <td>2010</td>\n",
       "      <td>0</td>\n",
       "      <td>1</td>\n",
       "      <td>None</td>\n",
       "      <td>All</td>\n",
       "      <td>408224.5</td>\n",
       "      <td>0.0</td>\n",
       "      <td>408145.0</td>\n",
       "      <td>408250.0</td>\n",
       "      <td>408258.0</td>\n",
       "      <td>Not Reported</td>\n",
       "      <td>Not Reported</td>\n",
       "      <td>Not Reported</td>\n",
       "      <td>Some Restrictions</td>\n",
       "      <td>Yes</td>\n",
       "      <td>Year-round</td>\n",
       "      <td>Permanent</td>\n",
       "      <td>22.701703</td>\n",
       "      <td>33.262626</td>\n",
       "      <td>POLYGON ((-175.31500 -6.61600, -175.86600 -6.6...</td>\n",
       "    </tr>\n",
       "  </tbody>\n",
       "</table>\n",
       "</div>"
      ],
      "text/plain": [
       "        mpa_id    wdpa_id   wdpa_pid                            name country  \\\n",
       "10124  7705427  555512002  555512002  Phoenix Islands Protected Area     KIR   \n",
       "\n",
       "      sovereign                              designatio  \\\n",
       "10124       KIR  World Heritage Site (natural or mixed)   \n",
       "\n",
       "                                   designat_1     designat_2      iucn_categ  \\\n",
       "10124  World Heritage Site (natural or mixed)  International  Not Applicable   \n",
       "\n",
       "          status  status_yea  is_mpa  implemente implementa no_take  \\\n",
       "10124  Inscribed        2010       0           1       None     All   \n",
       "\n",
       "       no_take_ar  rep_m_area  calc_m_are  rep_area  calc_area      gov_type  \\\n",
       "10124    408224.5         0.0    408145.0  408250.0   408258.0  Not Reported   \n",
       "\n",
       "          mgmt_auth    mgmt_plan_            fishing access   constancy  \\\n",
       "10124  Not Reported  Not Reported  Some Restrictions    Yes  Year-round   \n",
       "\n",
       "      permanence  SHAPE_Leng  SHAPE_Area  \\\n",
       "10124  Permanent   22.701703   33.262626   \n",
       "\n",
       "                                                geometry  \n",
       "10124  POLYGON ((-175.31500 -6.61600, -175.86600 -6.6...  "
      ]
     },
     "execution_count": 27,
     "metadata": {},
     "output_type": "execute_result"
    }
   ],
   "source": [
    "mpas[mpas['wdpa_id'] == 555512002]"
   ]
  },
  {
   "cell_type": "code",
   "execution_count": 28,
   "metadata": {},
   "outputs": [],
   "source": [
    "no_take = mpas[(mpas['no_take']=='All') & (mpas['implemente'])]\n",
    "of_interest_frame = no_take[\n",
    "    ((no_take['status_yea'] > 2012) | (no_take['implementa'] > '2012-01-01')) & no_take['implemente']]\n",
    "of_interest = [\n",
    "    (None, 555512002, 'Phoenix Island Protected Area', '2015-01-01', 408145.0, 408258.0)\n",
    "]\n",
    "# for i, row in no_take[no_take['status_yea'] > 2012].iterrows():\n",
    "for i, row in of_interest_frame.iterrows():\n",
    "    date = row['implementa']\n",
    "    if date is None:\n",
    "        date = str(row['status_yea'])\n",
    "    of_interest.append(\n",
    "        (row['mpa_id'], row['wdpa_id'], row['name'], date, row['rep_m_area'], row['calc_m_are'])\n",
    "    )\n",
    "\n",
    "np.random.shuffle(of_interest)"
   ]
  },
  {
   "cell_type": "code",
   "execution_count": 34,
   "metadata": {},
   "outputs": [
    {
     "name": "stdout",
     "output_type": "stream",
     "text": [
      "127/127 9393 0 Low Bay Sanctuary 2014                           k 2020                                                                            "
     ]
    }
   ],
   "source": [
    "import util\n",
    "folder_prefix = f'plots/{np.datetime64(\"now\")}'\n",
    "\n",
    "plot=False\n",
    "\n",
    "tables = pandas.DataFrame()\n",
    "summed_tables = pandas.DataFrame()\n",
    "j = 0\n",
    "for mpa_id, wdpa_id, name, date, rep_m_area, calc_m_are in of_interest:\n",
    "    j += 1\n",
    "    print(f'\\r{j}/{len(of_interest)} {mpa_id} {wdpa_id} {name} {date}                           ', end='')\n",
    "    mpa = None\n",
    "    if wdpa_id:\n",
    "        mpa = mpas[mpas['wdpa_id'] == wdpa_id].dissolve(by='wdpa_id')\n",
    "    elif mpa_id:\n",
    "        mpa = mpas[mpas['mpa_id'] == mpa_id].dissolve(by='mpa_id')\n",
    "    else:\n",
    "        print(f'no id for {name}, skipping')\n",
    "        continue\n",
    "        \n",
    "    folder = folder_prefix + f'/mpas/{name}/'\n",
    "    \n",
    "    returned = util.analyze_mpa(\n",
    "        geopoints_sampled, points_by_year, mpa, date, name, verbose=False,\n",
    "        plot=plot, folder=folder)\n",
    "    if returned is not None:\n",
    "        table, points_of_mpa_ships = returned\n",
    "        table.insert(0, 'name', name)\n",
    "        table.insert(1, 'date', date)\n",
    "        table.insert(2, 'wdpa_id', wdpa_id)\n",
    "        table.insert(3, 'mpa_id', mpa_id)\n",
    "        table.insert(4, 'reported_marine_area', rep_m_area)\n",
    "        table.insert(5, 'calculated_marine_area', calc_m_are)\n",
    "        \n",
    "        \n",
    "        if plot:\n",
    "            html_table_blue_light = pretty_html_table.build_table(table, 'blue_light')\n",
    "            # Save to html file\n",
    "            with open(folder+'individual_ships.html', 'w') as f:\n",
    "                f.write(html_table_blue_light)\n",
    "        \n",
    "        tables = tables.append(table)\n",
    "        \n",
    "        summed = table.groupby('name').aggregate({\n",
    "            'name': 'first',\n",
    "            'wdpa_id': 'first',\n",
    "            'mpa_id': 'first',\n",
    "            'date': 'first',\n",
    "            'calculated_marine_area': 'first',\n",
    "            'reported_marine_area': 'first',\n",
    "            'mmsi': 'count',\n",
    "            'in_pre': 'sum',\n",
    "            'out_pre': 'sum',\n",
    "            'in_post': 'sum',\n",
    "            'out_post': 'sum'})\n",
    "        summed_tables = summed_tables.append(summed)\n",
    "    else:\n",
    "        summed_tables = summed_tables.append(\n",
    "            {'name': mpa.iloc[0]['name'], 'wdpa_id': wdpa_id, 'mpa_id': mpa_id, 'date': date}\n",
    "            , ignore_index=True)\n",
    "\n",
    "# Populate the summed tables percentages columns\n",
    "summed_tables['in_pre_p'] = summed_tables['in_pre'] / (summed_tables['in_pre'] + summed_tables['out_pre'])\n",
    "summed_tables['in_post_p'] = summed_tables['in_post'] / (summed_tables['in_post'] + summed_tables['out_post'])\n",
    "summed_tables['decrease'] = (summed_tables['in_pre_p'] - summed_tables['in_post_p'])/(summed_tables['in_pre_p'])\n",
    "summed_tables = summed_tables.fillna(0)\n",
    "\n",
    "\n",
    "if plot:\n",
    "    # Save to html files\n",
    "    html_table = pretty_html_table.build_table(summed_tables.sort_values('decrease', ascending=False), 'blue_light')\n",
    "    with open(folder_prefix+'/summed_effort_by_decrease.html', 'w') as f:\n",
    "        f.write(html_table)\n",
    "\n",
    "\n",
    "    html_table = pretty_html_table.build_table(summed_tables.sort_values('mmsi', ascending=False), 'blue_light')\n",
    "    with open(folder_prefix+'/summed_effort_by_mmsi.html', 'w') as f:\n",
    "        f.write(html_table)"
   ]
  },
  {
   "cell_type": "code",
   "execution_count": 35,
   "metadata": {},
   "outputs": [],
   "source": [
    "summed_tables.sort_values('mmsi', ascending=False).to_csv(path_or_buf='of_interest.csv')"
   ]
  },
  {
   "cell_type": "code",
   "execution_count": null,
   "metadata": {},
   "outputs": [],
   "source": []
  }
 ],
 "metadata": {
  "kernelspec": {
   "display_name": "Python 3 (ipykernel)",
   "language": "python",
   "name": "python3"
  },
  "language_info": {
   "codemirror_mode": {
    "name": "ipython",
    "version": 3
   },
   "file_extension": ".py",
   "mimetype": "text/x-python",
   "name": "python",
   "nbconvert_exporter": "python",
   "pygments_lexer": "ipython3",
   "version": "3.9.10"
  }
 },
 "nbformat": 4,
 "nbformat_minor": 4
}
