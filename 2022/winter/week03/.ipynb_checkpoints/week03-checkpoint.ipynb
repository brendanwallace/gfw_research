{
 "cells": [
  {
   "cell_type": "markdown",
   "metadata": {},
   "source": [
    "# winter 2022 week03\n",
    "\n",
    "## goals:\n",
    "\n",
    "reload the data\n",
    "run util/load_data.py convert_all() function -- which loads everything and converts it to parquet\n",
    "\n",
    "## todo\n",
    "- \n",
    "\n",
    "\n",
    "## notes:\n",
    "\n"
   ]
  },
  {
   "cell_type": "code",
   "execution_count": 1,
   "metadata": {},
   "outputs": [],
   "source": [
    "%load_ext autoreload"
   ]
  },
  {
   "cell_type": "code",
   "execution_count": 2,
   "metadata": {},
   "outputs": [],
   "source": [
    "%autoreload 2"
   ]
  },
  {
   "cell_type": "code",
   "execution_count": 3,
   "metadata": {},
   "outputs": [
    {
     "name": "stdout",
     "output_type": "stream",
     "text": [
      "/Users/brendan/Documents/mpa_project/gfw_research\n"
     ]
    }
   ],
   "source": [
    "cd /Users/brendan/Documents/mpa_project/gfw_research"
   ]
  },
  {
   "cell_type": "code",
   "execution_count": 4,
   "metadata": {},
   "outputs": [],
   "source": [
    "import numpy as np\n",
    "import pandas\n",
    "from datetime import datetime\n",
    "import matplotlib.pyplot as plt\n",
    "import os\n",
    "import pywdpa\n",
    "import geopandas\n",
    "import contextily as ctx\n",
    "from shapely import geometry\n",
    "from shapely import ops\n",
    "import pretty_html_table\n",
    "\n",
    "import util\n",
    "\n",
    "pandas.set_option('display.max_columns', None)\n",
    "# pandas.set_option('display.max_rows', None)"
   ]
  },
  {
   "cell_type": "code",
   "execution_count": 5,
   "metadata": {},
   "outputs": [],
   "source": [
    "def load_year(year):\n",
    "    year = str(year)\n",
    "    print(f'\\r reading year {year}', end='')\n",
    "    return pandas.read_parquet(\"data/points/\" + year + \".parquet\")"
   ]
  },
  {
   "cell_type": "code",
   "execution_count": 6,
   "metadata": {},
   "outputs": [
    {
     "name": "stdout",
     "output_type": "stream",
     "text": [
      " reading year 2016"
     ]
    }
   ],
   "source": [
    "points_by_year = {\n",
    "    year : load_year(year)\n",
    "    for year in range(2012, 2021)\n",
    "}\n"
   ]
  },
  {
   "cell_type": "code",
   "execution_count": 7,
   "metadata": {},
   "outputs": [],
   "source": [
    "#mpas = util.load_mpas()\n",
    "mpas = geopandas.read_parquet(\"data/mpas/mpas.parquet\")"
   ]
  },
  {
   "cell_type": "code",
   "execution_count": 8,
   "metadata": {},
   "outputs": [
    {
     "name": "stdout",
     "output_type": "stream",
     "text": [
      "sampling 2016... done.\n",
      "converting to geo...  done.\n"
     ]
    }
   ],
   "source": [
    "# sample the points here before converting to geo\n",
    "# use the sampled points to find the mmsi that are interesting\n",
    "# only then should we get all of the points of relevent mmsi\n",
    "\n",
    "SAMPLE_RATIO = 100\n",
    "points_sampled = []\n",
    "for year, points in points_by_year.items():\n",
    "    print(f'\\rsampling {str(year)}... ', end='')\n",
    "    points_sampled.append(points.sample(frac=1/SAMPLE_RATIO))\n",
    "print('done.')\n",
    "points_sampled = pandas.concat(points_sampled)\n",
    "print(\"converting to geo...  \", end='')\n",
    "geopoints_sampled = util.convert_to_geo(points_sampled, box=True)\n",
    "print(\"done.\")\n"
   ]
  },
  {
   "cell_type": "code",
   "execution_count": 9,
   "metadata": {},
   "outputs": [],
   "source": [
    "\"\"\"Actual good ones:\n",
    "- Natural Park of the Coral Seas, 2014 555577562, further off the east coast of Australia\n",
    "- Marae Moana/Cook Islands, 2017 555624907 - maybe the best one - middle of the Pacific\n",
    "- French Austral Lands and Seas, 2019 555697868 - south-east of Africa\n",
    "- Arquipélago Submarino Do Meteor, 2016 555514087 - Atlantic ocean Y shaped area\n",
    "- Coral Sea, 2018 555556875 just off the east coast of Australia\n",
    "- Pacífico Mexicano Profundo, 2018 555624307 southwest Mexican coast\n",
    "- Palau National Marine Sanctuary, 2015, 555622118 oceania (near indonesia, phillippines)\n",
    "\"\"\"\n",
    "\n",
    "# TODO - enter the dates, figure out how to consolidate the multiple-entry ones\n",
    "mpas_of_interest = [\n",
    "    (\"Marae Moana\", 555624907.0, \"2017-07-13\"),\n",
    "    (\"French Austral Lands and Seas\", 555697868, \"2019-01-01\"), # date is kind of a guess\n",
    "    (\"Arquipélago Submarino Do Meteor\", 555697868, \"2016-01-01\"), # date is rough\n",
    "    (\"Coral Sea\", 555556875, \"2018-07-01\"), # wikipedia\n",
    "    (\"Pacífico Mexicano Profundo\", 555624307, \"2016-07-12\"), \n",
    "    (\"PIPA\", 555512002, \"2015-01-01\"),\n",
    "]\n"
   ]
  },
  {
   "cell_type": "code",
   "execution_count": 10,
   "metadata": {},
   "outputs": [
    {
     "name": "stdout",
     "output_type": "stream",
     "text": [
      "running sjoin... "
     ]
    },
    {
     "ename": "ImportError",
     "evalue": "Spatial indexes require either `rtree` or `pygeos`. See installation instructions at https://geopandas.org/install.html",
     "output_type": "error",
     "traceback": [
      "\u001b[0;31m---------------------------------------------------------------------------\u001b[0m",
      "\u001b[0;31mImportError\u001b[0m                               Traceback (most recent call last)",
      "Input \u001b[0;32mIn [10]\u001b[0m, in \u001b[0;36m<module>\u001b[0;34m\u001b[0m\n\u001b[1;32m      1\u001b[0m \u001b[38;5;28;01mimport\u001b[39;00m \u001b[38;5;21;01mutil\u001b[39;00m\n\u001b[1;32m      2\u001b[0m pipa \u001b[38;5;241m=\u001b[39m mpas[mpas[\u001b[38;5;124m'\u001b[39m\u001b[38;5;124mWDPAID\u001b[39m\u001b[38;5;124m'\u001b[39m] \u001b[38;5;241m==\u001b[39m \u001b[38;5;241m555512002.0\u001b[39m]\n\u001b[0;32m----> 3\u001b[0m pipa_res \u001b[38;5;241m=\u001b[39m \u001b[43mutil\u001b[49m\u001b[38;5;241;43m.\u001b[39;49m\u001b[43manalyze_mpa\u001b[49m\u001b[43m(\u001b[49m\u001b[43mgeopoints_sampled\u001b[49m\u001b[43m,\u001b[49m\u001b[43m \u001b[49m\u001b[43mpoints_by_year\u001b[49m\u001b[43m,\u001b[49m\u001b[43m \u001b[49m\u001b[43mpipa\u001b[49m\u001b[43m,\u001b[49m\u001b[43m \u001b[49m\u001b[38;5;124;43m'\u001b[39;49m\u001b[38;5;124;43m2013-01-01\u001b[39;49m\u001b[38;5;124;43m'\u001b[39;49m\u001b[43m)\u001b[49m\n",
      "File \u001b[0;32m~/Documents/mpa_project/gfw_research/util/analyze.py:100\u001b[0m, in \u001b[0;36manalyze_mpa\u001b[0;34m(geopoints_sampled, points_by_year, mpa, date, plot_pre_post)\u001b[0m\n\u001b[1;32m     97\u001b[0m \u001b[38;5;28;01mdef\u001b[39;00m \u001b[38;5;21manalyze_mpa\u001b[39m(geopoints_sampled, points_by_year, mpa, date, plot_pre_post\u001b[38;5;241m=\u001b[39m\u001b[38;5;28;01mTrue\u001b[39;00m):\n\u001b[1;32m     98\u001b[0m     mpa \u001b[38;5;241m=\u001b[39m mpa\u001b[38;5;241m.\u001b[39mdissolve(by\u001b[38;5;241m=\u001b[39m\u001b[38;5;124m'\u001b[39m\u001b[38;5;124mWDPAID\u001b[39m\u001b[38;5;124m'\u001b[39m)\n\u001b[0;32m--> 100\u001b[0m     points_of_mpa_ships \u001b[38;5;241m=\u001b[39m \u001b[43mpoints_of_interest\u001b[49m\u001b[43m(\u001b[49m\u001b[43mgeopoints_sampled\u001b[49m\u001b[43m,\u001b[49m\u001b[43m \u001b[49m\u001b[43mpoints_by_year\u001b[49m\u001b[43m,\u001b[49m\u001b[43m \u001b[49m\u001b[43mmpa\u001b[49m\u001b[43m,\u001b[49m\u001b[43m \u001b[49m\u001b[43mdate\u001b[49m\u001b[43m)\u001b[49m\n\u001b[1;32m    101\u001b[0m     \u001b[38;5;28;01mif\u001b[39;00m points_of_mpa_ships \u001b[38;5;129;01mis\u001b[39;00m \u001b[38;5;28;01mNone\u001b[39;00m:\n\u001b[1;32m    102\u001b[0m         \u001b[38;5;28;01mreturn\u001b[39;00m\n",
      "File \u001b[0;32m~/Documents/mpa_project/gfw_research/util/analyze.py:80\u001b[0m, in \u001b[0;36mpoints_of_interest\u001b[0;34m(geopoints_sampled, points_by_year, mpa, date)\u001b[0m\n\u001b[1;32m     78\u001b[0m \u001b[38;5;28;01mdef\u001b[39;00m \u001b[38;5;21mpoints_of_interest\u001b[39m(geopoints_sampled, points_by_year, mpa, date):\n\u001b[1;32m     79\u001b[0m     \u001b[38;5;28mprint\u001b[39m(\u001b[38;5;124m'\u001b[39m\u001b[38;5;124mrunning sjoin... \u001b[39m\u001b[38;5;124m'\u001b[39m, end\u001b[38;5;241m=\u001b[39m\u001b[38;5;124m'\u001b[39m\u001b[38;5;124m'\u001b[39m)\n\u001b[0;32m---> 80\u001b[0m     mpa_points \u001b[38;5;241m=\u001b[39m \u001b[43mgeopandas\u001b[49m\u001b[38;5;241;43m.\u001b[39;49m\u001b[43msjoin\u001b[49m\u001b[43m(\u001b[49m\u001b[43mgeopoints_sampled\u001b[49m\u001b[43m,\u001b[49m\u001b[43m \u001b[49m\u001b[43mmpa\u001b[49m\u001b[43m,\u001b[49m\u001b[43m \u001b[49m\u001b[43mpredicate\u001b[49m\u001b[38;5;241;43m=\u001b[39;49m\u001b[38;5;124;43m'\u001b[39;49m\u001b[38;5;124;43mwithin\u001b[39;49m\u001b[38;5;124;43m'\u001b[39;49m\u001b[43m)\u001b[49m\n\u001b[1;32m     81\u001b[0m     \u001b[38;5;28mprint\u001b[39m(\u001b[38;5;124m'\u001b[39m\u001b[38;5;130;01m\\n\u001b[39;00m\u001b[38;5;124mfound \u001b[39m\u001b[38;5;132;01m{}\u001b[39;00m\u001b[38;5;124m sampled points in the mpa from \u001b[39m\u001b[38;5;132;01m{}\u001b[39;00m\u001b[38;5;124m ships\u001b[39m\u001b[38;5;124m'\u001b[39m\u001b[38;5;241m.\u001b[39mformat(\n\u001b[1;32m     82\u001b[0m         mpa_points\u001b[38;5;241m.\u001b[39mshape[\u001b[38;5;241m0\u001b[39m], mpa_points[\u001b[38;5;124m'\u001b[39m\u001b[38;5;124mmmsi\u001b[39m\u001b[38;5;124m'\u001b[39m]\u001b[38;5;241m.\u001b[39mnunique()))\n\u001b[1;32m     84\u001b[0m     \u001b[38;5;28;01mif\u001b[39;00m mpa_points\u001b[38;5;241m.\u001b[39mshape[\u001b[38;5;241m0\u001b[39m] \u001b[38;5;241m==\u001b[39m \u001b[38;5;241m0\u001b[39m:\n",
      "File \u001b[0;32m/opt/homebrew/lib/python3.9/site-packages/geopandas/tools/sjoin.py:124\u001b[0m, in \u001b[0;36msjoin\u001b[0;34m(left_df, right_df, how, predicate, lsuffix, rsuffix, **kwargs)\u001b[0m\n\u001b[1;32m    120\u001b[0m     \u001b[38;5;28;01mraise\u001b[39;00m \u001b[38;5;167;01mTypeError\u001b[39;00m(\u001b[38;5;124mf\u001b[39m\u001b[38;5;124m\"\u001b[39m\u001b[38;5;124msjoin() got an unexpected keyword argument \u001b[39m\u001b[38;5;124m'\u001b[39m\u001b[38;5;132;01m{\u001b[39;00mfirst\u001b[38;5;132;01m}\u001b[39;00m\u001b[38;5;124m'\u001b[39m\u001b[38;5;124m\"\u001b[39m)\n\u001b[1;32m    122\u001b[0m _basic_checks(left_df, right_df, how, lsuffix, rsuffix)\n\u001b[0;32m--> 124\u001b[0m indices \u001b[38;5;241m=\u001b[39m \u001b[43m_geom_predicate_query\u001b[49m\u001b[43m(\u001b[49m\u001b[43mleft_df\u001b[49m\u001b[43m,\u001b[49m\u001b[43m \u001b[49m\u001b[43mright_df\u001b[49m\u001b[43m,\u001b[49m\u001b[43m \u001b[49m\u001b[43mpredicate\u001b[49m\u001b[43m)\u001b[49m\n\u001b[1;32m    126\u001b[0m joined \u001b[38;5;241m=\u001b[39m _frame_join(indices, left_df, right_df, how, lsuffix, rsuffix)\n\u001b[1;32m    128\u001b[0m \u001b[38;5;28;01mreturn\u001b[39;00m joined\n",
      "File \u001b[0;32m/opt/homebrew/lib/python3.9/site-packages/geopandas/tools/sjoin.py:211\u001b[0m, in \u001b[0;36m_geom_predicate_query\u001b[0;34m(left_df, right_df, predicate)\u001b[0m\n\u001b[1;32m    206\u001b[0m \u001b[38;5;28;01mif\u001b[39;00m predicate \u001b[38;5;241m==\u001b[39m \u001b[38;5;124m\"\u001b[39m\u001b[38;5;124mwithin\u001b[39m\u001b[38;5;124m\"\u001b[39m:\n\u001b[1;32m    207\u001b[0m     \u001b[38;5;66;03m# within is implemented as the inverse of contains\u001b[39;00m\n\u001b[1;32m    208\u001b[0m     \u001b[38;5;66;03m# contains is a faster predicate\u001b[39;00m\n\u001b[1;32m    209\u001b[0m     \u001b[38;5;66;03m# see discussion at https://github.com/geopandas/geopandas/pull/1421\u001b[39;00m\n\u001b[1;32m    210\u001b[0m     predicate \u001b[38;5;241m=\u001b[39m \u001b[38;5;124m\"\u001b[39m\u001b[38;5;124mcontains\u001b[39m\u001b[38;5;124m\"\u001b[39m\n\u001b[0;32m--> 211\u001b[0m     sindex \u001b[38;5;241m=\u001b[39m \u001b[43mleft_df\u001b[49m\u001b[38;5;241;43m.\u001b[39;49m\u001b[43msindex\u001b[49m\n\u001b[1;32m    212\u001b[0m     input_geoms \u001b[38;5;241m=\u001b[39m right_df\u001b[38;5;241m.\u001b[39mgeometry\n\u001b[1;32m    213\u001b[0m \u001b[38;5;28;01melse\u001b[39;00m:\n\u001b[1;32m    214\u001b[0m     \u001b[38;5;66;03m# all other predicates are symmetric\u001b[39;00m\n\u001b[1;32m    215\u001b[0m     \u001b[38;5;66;03m# keep them the same\u001b[39;00m\n",
      "File \u001b[0;32m/opt/homebrew/lib/python3.9/site-packages/geopandas/base.py:2637\u001b[0m, in \u001b[0;36mGeoPandasBase.sindex\u001b[0;34m(self)\u001b[0m\n\u001b[1;32m   2586\u001b[0m \u001b[38;5;129m@property\u001b[39m\n\u001b[1;32m   2587\u001b[0m \u001b[38;5;28;01mdef\u001b[39;00m \u001b[38;5;21msindex\u001b[39m(\u001b[38;5;28mself\u001b[39m):\n\u001b[1;32m   2588\u001b[0m     \u001b[38;5;124;03m\"\"\"Generate the spatial index\u001b[39;00m\n\u001b[1;32m   2589\u001b[0m \n\u001b[1;32m   2590\u001b[0m \u001b[38;5;124;03m    Creates R-tree spatial index based on ``pygeos.STRtree`` or\u001b[39;00m\n\u001b[0;32m   (...)\u001b[0m\n\u001b[1;32m   2635\u001b[0m \u001b[38;5;124;03m           [2]])\u001b[39;00m\n\u001b[1;32m   2636\u001b[0m \u001b[38;5;124;03m    \"\"\"\u001b[39;00m\n\u001b[0;32m-> 2637\u001b[0m     \u001b[38;5;28;01mreturn\u001b[39;00m \u001b[38;5;28;43mself\u001b[39;49m\u001b[38;5;241;43m.\u001b[39;49m\u001b[43mgeometry\u001b[49m\u001b[38;5;241;43m.\u001b[39;49m\u001b[43mvalues\u001b[49m\u001b[38;5;241;43m.\u001b[39;49m\u001b[43msindex\u001b[49m\n",
      "File \u001b[0;32m/opt/homebrew/lib/python3.9/site-packages/geopandas/array.py:292\u001b[0m, in \u001b[0;36mGeometryArray.sindex\u001b[0;34m(self)\u001b[0m\n\u001b[1;32m    289\u001b[0m \u001b[38;5;129m@property\u001b[39m\n\u001b[1;32m    290\u001b[0m \u001b[38;5;28;01mdef\u001b[39;00m \u001b[38;5;21msindex\u001b[39m(\u001b[38;5;28mself\u001b[39m):\n\u001b[1;32m    291\u001b[0m     \u001b[38;5;28;01mif\u001b[39;00m \u001b[38;5;28mself\u001b[39m\u001b[38;5;241m.\u001b[39m_sindex \u001b[38;5;129;01mis\u001b[39;00m \u001b[38;5;28;01mNone\u001b[39;00m:\n\u001b[0;32m--> 292\u001b[0m         \u001b[38;5;28mself\u001b[39m\u001b[38;5;241m.\u001b[39m_sindex \u001b[38;5;241m=\u001b[39m \u001b[43m_get_sindex_class\u001b[49m\u001b[43m(\u001b[49m\u001b[43m)\u001b[49m(\u001b[38;5;28mself\u001b[39m\u001b[38;5;241m.\u001b[39mdata)\n\u001b[1;32m    293\u001b[0m     \u001b[38;5;28;01mreturn\u001b[39;00m \u001b[38;5;28mself\u001b[39m\u001b[38;5;241m.\u001b[39m_sindex\n",
      "File \u001b[0;32m/opt/homebrew/lib/python3.9/site-packages/geopandas/sindex.py:21\u001b[0m, in \u001b[0;36m_get_sindex_class\u001b[0;34m()\u001b[0m\n\u001b[1;32m     19\u001b[0m \u001b[38;5;28;01mif\u001b[39;00m compat\u001b[38;5;241m.\u001b[39mHAS_RTREE:\n\u001b[1;32m     20\u001b[0m     \u001b[38;5;28;01mreturn\u001b[39;00m RTreeIndex\n\u001b[0;32m---> 21\u001b[0m \u001b[38;5;28;01mraise\u001b[39;00m \u001b[38;5;167;01mImportError\u001b[39;00m(\n\u001b[1;32m     22\u001b[0m     \u001b[38;5;124m\"\u001b[39m\u001b[38;5;124mSpatial indexes require either `rtree` or `pygeos`. \u001b[39m\u001b[38;5;124m\"\u001b[39m\n\u001b[1;32m     23\u001b[0m     \u001b[38;5;124m\"\u001b[39m\u001b[38;5;124mSee installation instructions at https://geopandas.org/install.html\u001b[39m\u001b[38;5;124m\"\u001b[39m\n\u001b[1;32m     24\u001b[0m )\n",
      "\u001b[0;31mImportError\u001b[0m: Spatial indexes require either `rtree` or `pygeos`. See installation instructions at https://geopandas.org/install.html"
     ]
    }
   ],
   "source": [
    "import util\n",
    "pipa = mpas[mpas['WDPAID'] == 555512002.0]\n",
    "pipa_res = util.analyze_mpa(geopoints_sampled, points_by_year, pipa, '2013-01-01')"
   ]
  },
  {
   "cell_type": "code",
   "execution_count": null,
   "metadata": {},
   "outputs": [],
   "source": [
    "import util\n",
    "marae_moana = mpas[mpas['WDPAID'] == 555624907.0]\n",
    "marae_moana_results = util.analyze_mpa(geopoints_sampled, points_by_year, marae_moana, '2013-01-01')"
   ]
  },
  {
   "cell_type": "code",
   "execution_count": null,
   "metadata": {},
   "outputs": [],
   "source": []
  }
 ],
 "metadata": {
  "kernelspec": {
   "display_name": "Python 3 (ipykernel)",
   "language": "python",
   "name": "python3"
  },
  "language_info": {
   "codemirror_mode": {
    "name": "ipython",
    "version": 3
   },
   "file_extension": ".py",
   "mimetype": "text/x-python",
   "name": "python",
   "nbconvert_exporter": "python",
   "pygments_lexer": "ipython3",
   "version": "3.9.10"
  }
 },
 "nbformat": 4,
 "nbformat_minor": 4
}
