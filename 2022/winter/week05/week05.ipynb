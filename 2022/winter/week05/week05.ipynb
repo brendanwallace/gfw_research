{
 "cells": [
  {
   "cell_type": "markdown",
   "metadata": {},
   "source": [
    "# winter 2022 week03\n",
    "\n",
    "## goals:\n",
    "\n",
    "reload the data\n",
    "run util/load_data.py convert_all() function -- which loads everything and converts it to parquet\n",
    "\n",
    "## todo\n",
    "- ~add PIPA to list of interesting ones (57 -> 58)~\n",
    "- final count of reduced fishing\n",
    "- run the analyze thing over those 7/8\n",
    "- make those charts of in/out fishing effort of individual ships for those 7/8\n",
    "- make pictures of before/after fishing effort of individual ships for those 7/8 (could use consistent colors)\n",
    "\n",
    "THEN:\n",
    "- make table of (low, low), (low, high), (high, low), (high, high). etc. of the 58\n",
    "- make table of (?, low), (?, high) of all the other ones\n",
    "\n",
    "AND THEN:\n",
    "- compare to the paper about 5 MPAs\n",
    "- email Dan to show him everything\n",
    "- title: what can GFW data tell us about the true protection of MPA?\n",
    "- two effective scenarios: (high, low) and (low, low) ~= (?, low)\n",
    "\n",
    "\n",
    "## notes:\n",
    "\n"
   ]
  },
  {
   "cell_type": "code",
   "execution_count": 1,
   "metadata": {},
   "outputs": [],
   "source": [
    "%load_ext autoreload"
   ]
  },
  {
   "cell_type": "code",
   "execution_count": 2,
   "metadata": {},
   "outputs": [],
   "source": [
    "%autoreload 2"
   ]
  },
  {
   "cell_type": "code",
   "execution_count": 3,
   "metadata": {},
   "outputs": [
    {
     "name": "stdout",
     "output_type": "stream",
     "text": [
      "/Users/brendan/Documents/mpa_project/gfw_research\n"
     ]
    }
   ],
   "source": [
    "cd /Users/brendan/Documents/mpa_project/gfw_research"
   ]
  },
  {
   "cell_type": "code",
   "execution_count": 4,
   "metadata": {},
   "outputs": [
    {
     "name": "stderr",
     "output_type": "stream",
     "text": [
      "/opt/homebrew/lib/python3.9/site-packages/geopandas/_compat.py:111: UserWarning: The Shapely GEOS version (3.10.2-CAPI-1.16.0) is incompatible with the GEOS version PyGEOS was compiled with (3.10.1-CAPI-1.16.0). Conversions between both will be slow.\n",
      "  warnings.warn(\n"
     ]
    }
   ],
   "source": [
    "import numpy as np\n",
    "import pandas\n",
    "from datetime import datetime\n",
    "import matplotlib.pyplot as plt\n",
    "import os\n",
    "import pywdpa\n",
    "import geopandas\n",
    "import contextily as ctx\n",
    "from shapely import geometry\n",
    "from shapely import ops\n",
    "import pretty_html_table\n",
    "\n",
    "import util\n",
    "\n",
    "pandas.set_option('display.max_columns', None)\n",
    "pandas.set_option('display.max_rows', None)"
   ]
  },
  {
   "cell_type": "code",
   "execution_count": 5,
   "metadata": {},
   "outputs": [],
   "source": [
    "DATA_PATH = \"/Users/brendan/Documents/mpa_project/gfw_research/data/\"\n",
    "FILENAME = \"mpatlas_20201223_clean/mpatlas_20201223_clean.shp\"\n",
    "\n",
    "import util\n",
    "\n",
    "#mpas = geopandas.read_file(DATA_PATH + FILENAME)\n",
    "# util.load_mpatlas_mpas()\n",
    "mpas = geopandas.read_parquet(\"data/mpas/mpatlas.parquet\")"
   ]
  },
  {
   "cell_type": "code",
   "execution_count": 6,
   "metadata": {},
   "outputs": [],
   "source": [
    "no_take = mpas[(mpas['no_take']=='All') & (mpas['implemente'])]"
   ]
  },
  {
   "cell_type": "code",
   "execution_count": 8,
   "metadata": {},
   "outputs": [
    {
     "data": {
      "text/plain": [
       "<AxesSubplot:>"
      ]
     },
     "execution_count": 8,
     "metadata": {},
     "output_type": "execute_result"
    },
    {
     "data": {
      "image/png": "[encoded data removed]",
      "text/plain": [
       "<Figure size 432x288 with 1 Axes>"
      ]
     },
     "metadata": {
      "needs_background": "light"
     },
     "output_type": "display_data"
    }
   ],
   "source": [
    "no_take[no_take['status_yea'] > 2012]['status_yea'].hist()\n"
   ]
  },
  {
   "cell_type": "code",
   "execution_count": 10,
   "metadata": {},
   "outputs": [],
   "source": [
    "def load_year(year):\n",
    "    year = str(year)\n",
    "    print(f'\\r reading year {year}', end='')\n",
    "    return pandas.read_parquet(\"data/points/\" + year + \".parquet\")"
   ]
  },
  {
   "cell_type": "code",
   "execution_count": 11,
   "metadata": {},
   "outputs": [
    {
     "name": "stdout",
     "output_type": "stream",
     "text": [
      " reading year 2020"
     ]
    }
   ],
   "source": [
    "points_by_year = {\n",
    "    year : load_year(year)\n",
    "    for year in range(2012, 2021)\n",
    "}\n"
   ]
  },
  {
   "cell_type": "code",
   "execution_count": 12,
   "metadata": {},
   "outputs": [
    {
     "name": "stdout",
     "output_type": "stream",
     "text": [
      "sampling 2020... done.\n",
      "converting to geo...  done.\n"
     ]
    }
   ],
   "source": [
    "# sample the points here before converting to geo\n",
    "# use the sampled points to find the mmsi that are interesting\n",
    "# only then should we get all of the points of relevent mmsi\n",
    "\n",
    "SAMPLE_RATIO = 100\n",
    "points_sampled = []\n",
    "for year, points in points_by_year.items():\n",
    "    print(f'\\rsampling {str(year)}... ', end='')\n",
    "    points_sampled.append(points.sample(frac=1/SAMPLE_RATIO))\n",
    "print('done.')\n",
    "points_sampled = pandas.concat(points_sampled)\n",
    "print(\"converting to geo...  \", end='')\n",
    "geopoints_sampled = util.convert_to_geo(points_sampled, box=True)\n",
    "print(\"done.\")\n"
   ]
  },
  {
   "cell_type": "code",
   "execution_count": 13,
   "metadata": {},
   "outputs": [],
   "source": [
    "of_interest = [\n",
    "    (555512002, 'Phoenix Island Protected Area', '2015-01-01')\n",
    "]\n",
    "for i, row in no_take[no_take['implementa'] > '2012-01-01'].iterrows():\n",
    "    of_interest.append(\n",
    "        (row['wdpa_id'], row['name'], row['implementa'])\n",
    "    )\n"
   ]
  },
  {
   "cell_type": "code",
   "execution_count": null,
   "metadata": {},
   "outputs": [
    {
     "name": "stdout",
     "output_type": "stream",
     "text": [
      "4/58"
     ]
    }
   ],
   "source": [
    "tables = pandas.DataFrame()\n",
    "summed_tables = pandas.DataFrame()\n",
    "j = 0\n",
    "for wdpa_id, name, date in of_interest:\n",
    "    j += 1\n",
    "    print(f'\\r{j}/{len(of_interest)}', end='')\n",
    "    mpa = mpas[mpas['wdpa_id'] == wdpa_id]\n",
    "    returned = util.analyze_mpa(geopoints_sampled, points_by_year, mpa, date, plot_pre_post=False)\n",
    "    if returned:\n",
    "        table, pre, post, points = returned\n",
    "        table.insert(0, 'name', name)\n",
    "        table.insert(1, 'wdpa_id', wdpa_id)\n",
    "        tables = tables.append(table)\n",
    "        \n",
    "        summed = table.groupby('name').aggregate({\n",
    "            'name': 'first',\n",
    "            'wdpa_id': 'first',\n",
    "            'mmsi': 'count',\n",
    "            'in_pre': 'sum',\n",
    "            'out_pre': 'sum',\n",
    "            'in_post': 'sum',\n",
    "            'out_post': 'sum'})\n",
    "        summed_tables = summed_tables.append(summed)\n",
    "    else:\n",
    "        pass\n",
    "        # summed_tables = summed_tables.append({'name': mpa.iloc[0]['name']}, ignore_index=True)"
   ]
  },
  {
   "cell_type": "code",
   "execution_count": null,
   "metadata": {},
   "outputs": [],
   "source": [
    "summed_tables"
   ]
  }
 ],
 "metadata": {
  "kernelspec": {
   "display_name": "Python 3 (ipykernel)",
   "language": "python",
   "name": "python3"
  },
  "language_info": {
   "codemirror_mode": {
    "name": "ipython",
    "version": 3
   },
   "file_extension": ".py",
   "mimetype": "text/x-python",
   "name": "python",
   "nbconvert_exporter": "python",
   "pygments_lexer": "ipython3",
   "version": "3.9.10"
  }
 },
 "nbformat": 4,
 "nbformat_minor": 4
}
