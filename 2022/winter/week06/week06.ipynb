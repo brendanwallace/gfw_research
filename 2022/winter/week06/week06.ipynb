{
 "cells": [
  {
   "cell_type": "markdown",
   "metadata": {},
   "source": [
    "# winter 2022 week03\n",
    "\n",
    "## goals:\n",
    "\n",
    "reload the data\n",
    "run util/load_data.py convert_all() function -- which loads everything and converts it to parquet\n",
    "\n",
    "## todo\n",
    "- ~add PIPA to list of interesting ones (57 -> 58)~\n",
    "- figure out how to get the thing to run faster (try to just use geopoints_sampled in analyze)\n",
    "- final count of reduced fishing\n",
    "- run the analyze thing over those 7/8\n",
    "- make those charts of in/out fishing effort of individual ships for those 7/8\n",
    "- make pictures of before/after fishing effort of individual ships for those 7/8 (could use consistent colors)\n",
    "\n",
    "THEN:\n",
    "- make table of (low, low), (low, high), (high, low), (high, high). etc. of the 58\n",
    "- make table of (?, low), (?, high) of all the other ones\n",
    "\n",
    "AND THEN:\n",
    "- compare to the paper about 5 MPAs\n",
    "- email Dan to show him everything\n",
    "- title: what can GFW data tell us about the true protection of MPA?\n",
    "- two effective scenarios: (high, low) and (low, low) ~= (?, low)\n",
    "\n",
    "\n",
    "## notes:\n",
    "\n"
   ]
  },
  {
   "cell_type": "code",
   "execution_count": 1,
   "metadata": {},
   "outputs": [],
   "source": [
    "%load_ext autoreload"
   ]
  },
  {
   "cell_type": "code",
   "execution_count": 2,
   "metadata": {},
   "outputs": [],
   "source": [
    "%autoreload 2"
   ]
  },
  {
   "cell_type": "code",
   "execution_count": 3,
   "metadata": {},
   "outputs": [
    {
     "name": "stdout",
     "output_type": "stream",
     "text": [
      "/Users/brendan/Documents/mpa_project/gfw_research\n"
     ]
    }
   ],
   "source": [
    "cd /Users/brendan/Documents/mpa_project/gfw_research"
   ]
  },
  {
   "cell_type": "code",
   "execution_count": 20,
   "metadata": {},
   "outputs": [],
   "source": [
    "import numpy as np\n",
    "import pandas\n",
    "from datetime import datetime\n",
    "import matplotlib.pyplot as plt\n",
    "import os\n",
    "import pywdpa\n",
    "import geopandas\n",
    "import contextily as ctx\n",
    "from shapely import geometry\n",
    "from shapely import ops\n",
    "import pretty_html_table\n",
    "import cProfile\n",
    "\n",
    "import util\n",
    "\n",
    "pandas.set_option('display.max_columns', None)\n",
    "pandas.set_option('display.max_rows', None)"
   ]
  },
  {
   "cell_type": "code",
   "execution_count": 5,
   "metadata": {},
   "outputs": [],
   "source": [
    "DATA_PATH = \"/Users/brendan/Documents/mpa_project/gfw_research/data/\"\n",
    "FILENAME = \"mpatlas_20201223_clean/mpatlas_20201223_clean.shp\"\n",
    "\n",
    "import util\n",
    "\n",
    "#mpas = geopandas.read_file(DATA_PATH + FILENAME)\n",
    "# util.load_mpatlas_mpas()\n",
    "mpas = geopandas.read_parquet(\"data/mpas/mpatlas.parquet\")"
   ]
  },
  {
   "cell_type": "code",
   "execution_count": 6,
   "metadata": {},
   "outputs": [],
   "source": [
    "no_take = mpas[(mpas['no_take']=='All') & (mpas['implemente'])]"
   ]
  },
  {
   "cell_type": "code",
   "execution_count": 7,
   "metadata": {},
   "outputs": [
    {
     "data": {
      "text/plain": [
       "<AxesSubplot:>"
      ]
     },
     "execution_count": 7,
     "metadata": {},
     "output_type": "execute_result"
    },
    {
     "data": {
      "image/png": "[encoded data removed]",
      "text/plain": [
       "<Figure size 432x288 with 1 Axes>"
      ]
     },
     "metadata": {
      "needs_background": "light"
     },
     "output_type": "display_data"
    }
   ],
   "source": [
    "no_take[no_take['status_yea'] > 2012]['status_yea'].hist()\n"
   ]
  },
  {
   "cell_type": "code",
   "execution_count": 8,
   "metadata": {},
   "outputs": [],
   "source": [
    "def load_year(year):\n",
    "    year = str(year)\n",
    "    print(f'\\r reading year {year}', end='')\n",
    "    return pandas.read_parquet(\"data/points/\" + year + \".parquet\")"
   ]
  },
  {
   "cell_type": "code",
   "execution_count": 9,
   "metadata": {},
   "outputs": [
    {
     "name": "stdout",
     "output_type": "stream",
     "text": [
      " reading year 2020"
     ]
    }
   ],
   "source": [
    "points_by_year = {\n",
    "    year : load_year(year)\n",
    "    for year in range(2012, 2021)\n",
    "}"
   ]
  },
  {
   "cell_type": "code",
   "execution_count": 10,
   "metadata": {},
   "outputs": [
    {
     "name": "stdout",
     "output_type": "stream",
     "text": [
      "sampling 2020... done.\n",
      "converting to geo...  done.\n"
     ]
    }
   ],
   "source": [
    "# sample the points here before converting to geo\n",
    "# use the sampled points to find the mmsi that are interesting\n",
    "# only then should we get all of the points of relevent mmsi\n",
    "\n",
    "SAMPLE_RATIO = 100\n",
    "points_sampled = []\n",
    "for year, points in points_by_year.items():\n",
    "    print(f'\\rsampling {str(year)}... ', end='')\n",
    "    points_sampled.append(points.sample(frac=1/SAMPLE_RATIO))\n",
    "print('done.')\n",
    "points_sampled = pandas.concat(points_sampled)\n",
    "print(\"converting to geo...  \", end='')\n",
    "geopoints_sampled = util.convert_to_geo(points_sampled, box=True)\n",
    "print(\"done.\")\n"
   ]
  },
  {
   "cell_type": "code",
   "execution_count": 71,
   "metadata": {},
   "outputs": [],
   "source": [
    "of_interest_frame = no_take[\n",
    "    ((no_take['status_yea'] >= 2012) | (no_take['implementa'] > '2012-01-01')) & no_take['implemente']]\n",
    "of_interest = [\n",
    "    (555512002, 'Phoenix Island Protected Area', '2015-01-01')\n",
    "]\n",
    "# for i, row in no_take[no_take['status_yea'] > 2012].iterrows():\n",
    "for i, row in of_interest_frame.iterrows():\n",
    "    date = row['implementa']\n",
    "    if date is None:\n",
    "        date = str(row['status_yea'])\n",
    "    of_interest.append(\n",
    "        (row['wdpa_id'], row['name'], date)\n",
    "    )\n",
    "\n",
    "# natural park of the coral sea - nature reserve\n",
    "# has too much activity or something, will come back to this\n",
    "# print(of_interest.pop(4))\n",
    "# print(of_interest.pop(3))"
   ]
  },
  {
   "cell_type": "code",
   "execution_count": 72,
   "metadata": {},
   "outputs": [
    {
     "data": {
      "text/plain": [
       "[(555512002, 'Phoenix Island Protected Area', '2015-01-01'),\n",
       " (555714969, 'Lebyazh`i ostrova', '2018'),\n",
       " (555711347, 'Vostok Finskogo zaliva (Ingermanlandskij)', '2017'),\n",
       " (555708108, 'Medvezh`i ostrova', '2020'),\n",
       " (555705576, 'Ko Kam Yai Marine Fisheries Reserved Area', '2016'),\n",
       " (555705568, 'Niue Moana Mahu Marine Protected Area', '2020'),\n",
       " (555703726, \"D'Arros to Poivre Atolls (Marine) National Park\", '2020'),\n",
       " (555703725, \"D'Arros Atoll (Marine) National Park\", '2020'),\n",
       " (555703724, 'Bird Island (Ile aux Vaches) (Marine) National Park', '2020'),\n",
       " (555703723, 'Amirantes South (Marine) National Park', '2020'),\n",
       " (555703541, 'Jebel Ali Wetland Sanctuary', '2018'),\n",
       " (555703534, 'Khor Al Muzahmi', '2018'),\n",
       " (555548008, 'Batemans', '2018'),\n",
       " (555655703, 'Stellar Sea Lion', '2014-01-01'),\n",
       " (555629385,\n",
       "  'Revillagigedo - Zona Núcleo/Uso Restringido Turismo',\n",
       "  '2018-11-30'),\n",
       " (0, 'Natural Park of the Coral Sea - Nature Reserve', '2018-08-01'),\n",
       " (0, 'Natural Park of the Coral Sea - Wilderness Areas', '2018-08-01'),\n",
       " (0, 'Guindziwe', '2017'),\n",
       " (0, 'Marragane', '2017'),\n",
       " (0, 'Ponte Cais', '2017'),\n",
       " (0, 'Guilalene', '2017'),\n",
       " (0, 'Guidzvane', '2017'),\n",
       " (0, 'Marrambone', '2017'),\n",
       " (0, 'Mahigo Mbate', '2017'),\n",
       " (0, 'Nha Dzi Sectori', '2017'),\n",
       " (0, 'Mandzenika', '2017'),\n",
       " (555629385,\n",
       "  'Revillagigedo - Zona Núcleo/Uso Restringido Investigación',\n",
       "  '2018-11-30'),\n",
       " (0, 'Laurentian Channel (Zone 2)', '2019-04-18'),\n",
       " (0, 'Laurentian Channel (Zone 1)', '2019-04-18'),\n",
       " (0, 'Banc-des-Américains (Zone 1)', '2019-03-06'),\n",
       " (555558346, 'Namuncurá - Banco Burdwood [Buffer Zone]', '2013'),\n",
       " (555512150, 'Gwaii Haanas - Restricted Access Zone', '2018-11-19'),\n",
       " (555512150, 'Gwaii Haanas - Strict Protection Zone', '2018-11-19'),\n",
       " (555624810,\n",
       "  'Ross Sea Region [General Protection Zone (iii) Scott Seamount]',\n",
       "  '2017-12-01'),\n",
       " (555624810,\n",
       "  'Ross Sea Region [General Protection Zone (ii) Seamount Range]',\n",
       "  '2017-12-01'),\n",
       " (555637327, 'Bul Syayeef Marine Protected Area', '2017'),\n",
       " (555637324,\n",
       "  'Alqurm Wa Lehhfaiiah Protected Area (Mangrove and Alhafeya Protected Area in Khor Kalba)',\n",
       "  '2012'),\n",
       " (555625658, 'Al Zorah', '2016'),\n",
       " (555624691, 'Bul Syayeef Marine Protected Area', '2016'),\n",
       " (555622081, 'Al Saadyat Marine National Park', '2014'),\n",
       " (555622079, 'Ras Ghanada Marine Protected Area', '2017'),\n",
       " (555600304, 'Tauparikākā', '2014'),\n",
       " (555600303, 'Waiau Glacier Coast', '2014'),\n",
       " (555600302, 'Punakaiki', '2014'),\n",
       " (555600301, 'Hautai', '2014'),\n",
       " (555600300, 'Hikurangi', '2014'),\n",
       " (555600299, 'Kahurangi', '2014'),\n",
       " (555600298, 'Akaroa', '2014'),\n",
       " (555592552, \"Jazirat Sir Bo Na'air Protected Area\", '2013'),\n",
       " (555587198, 'Two Foot Bay Sanctuary', '2014'),\n",
       " (555587197, 'Low Bay Sanctuary', '2014'),\n",
       " (555587196, 'Goat Point Sanctuary', '2014'),\n",
       " (555576569, 'Bandara Kilhi', '2012'),\n",
       " (555576568, 'Dhandimagu Kilhi', '2012'),\n",
       " (555558373, 'Mangrove and Alhafeya Protected Area in Khor Kalba', '2013'),\n",
       " (555556882, 'Great Australian Bight - National Park Zone', '2018-07-01'),\n",
       " (555556896, 'Oceanic Shoals - National Park Zone', '2018-07-01'),\n",
       " (555556880, 'Geographe - National Park Zone', '2018-07-01'),\n",
       " (555556875, 'Coral Sea - National Park Zone', '2018-07-01'),\n",
       " (64056, 'Solitary Islands', '2018'),\n",
       " (555576595, 'Marmion - Waterman Recreational Area', '2014'),\n",
       " (555576595, 'Marmion - Sanctuary Zone', '2014'),\n",
       " (555548201, 'Port Stephens - Great Lakes', '2018'),\n",
       " (126987, 'Southwest', '2013'),\n",
       " (555559203, 'Lundy [no-take zone]', '2013'),\n",
       " (555626061, 'Tierra Blanca', '2017'),\n",
       " (555626059, 'Lobería Selkirk', '2017'),\n",
       " (555626058, 'El Arenal', '2017'),\n",
       " (555626056, 'Montes submarinos Crusoe y Selkirk', '2017'),\n",
       " (555556903, 'Twilight - National Park Zone', '2018-07-01'),\n",
       " (555635928,\n",
       "  'Monumento Natural Do Arquipélago De São Pedro E São Paulo',\n",
       "  '2018-03-19'),\n",
       " (555635929,\n",
       "  'Monumento Natural Das Ilhas de Trindade, Martim Vaz e Do Monte Columbia',\n",
       "  '2018-03-19'),\n",
       " (0, 'Moana Mahu', '2020-05-01'),\n",
       " (0, 'Papahānaumokuākea 2016 Expansion', '2016'),\n",
       " (354090, 'Tasman Fracture - Marine National Park Zone', '2013-07-01'),\n",
       " (555547601,\n",
       "  'South Georgia and South Sandwich Islands [No-Take Zones]',\n",
       "  '2012'),\n",
       " (555512160, 'Prince Edward Islands - Sanctuary Zone', '2013'),\n",
       " (345888,\n",
       "  'Terres Australes Françaises [Strict Marine Protection Zone]',\n",
       "  '2016-12-16'),\n",
       " (0, 'Calanques', '2012'),\n",
       " (0, 'Galápagos', '2016'),\n",
       " (0, 'Waiau Glacier Coast', '2014'),\n",
       " (0, 'Tauparikākā', '2014'),\n",
       " (0, 'Punakaiki', '2014'),\n",
       " (0, 'Kahurangi', '2014'),\n",
       " (0, 'Hautai', '2014'),\n",
       " (0, 'Point Cabrillo', '2012'),\n",
       " (0, 'Ten Mile', '2012'),\n",
       " (0, 'Vizcaino Rock', '2012'),\n",
       " (0, 'Rockport Rocks', '2012'),\n",
       " (0, 'Sea Lion Gulch', '2012'),\n",
       " (0, 'Mattole Canyon', '2012'),\n",
       " (0, 'Steamboat Rock', '2012'),\n",
       " (0, 'South Cape Mendocino', '2012'),\n",
       " (0, 'Sugarloaf Island', '2012'),\n",
       " (0, 'South Humboldt Bay', '2012'),\n",
       " (0, 'Reading Rock', '2012'),\n",
       " (0, 'False Klamath Rock', '2012'),\n",
       " (0, 'Castle Rock', '2012'),\n",
       " (0, 'Southwest Seal Rock', '2012'),\n",
       " (0, 'Cabrillo', '2012'),\n",
       " (0, 'Famosa Slough', '2012'),\n",
       " (0, 'South La Jolla', '2012'),\n",
       " (0, 'Matlahuayl', '2012'),\n",
       " (0, 'San Elijo Lagoon', '2012'),\n",
       " (0, 'Batiquitos Lagoon', '2012'),\n",
       " (0, 'Laguna Beach', '2012'),\n",
       " (0, 'Laguna Beach', '2012'),\n",
       " (0, 'Casino Point (Catalina Island)', '2012'),\n",
       " (0, 'Long Point (Catalina Island)', '2012'),\n",
       " (0, 'Blue Cavern (Catalina Island) Onshore', '2012'),\n",
       " (0, 'Bolsa Chica Basin', '2012'),\n",
       " (0, 'Point Vicente', '2012'),\n",
       " (0, 'Point Dume', '2012'),\n",
       " (0, 'Begg Rock (San Nicolas Island)', '2012'),\n",
       " (0, 'Goleta Slough', '2012'),\n",
       " (0, 'Campus Point', '2012'),\n",
       " (0, 'Point Conception', '2012'),\n",
       " (555622118, 'Palau', '2020-01-01'),\n",
       " (354086, 'Macquarie Island - Sanctuary Zone', '2013-07-01'),\n",
       " (354079, 'Cod Grounds - National Park Zone', '2018-07-01'),\n",
       " (555583003, 'Preservation Zone', '2012'),\n",
       " (555583002, 'Long Bouge Conservation Zone', '2012'),\n",
       " (555583001, 'Caye Brokel Conservation Zone', '2012'),\n",
       " (555582998, 'Blackbird Caye Conservation Zone', '2012'),\n",
       " (555582996, 'Dog Flea Caye Conservation Zone', '2012'),\n",
       " (555582995, 'Maugre Caye Conservation Zone', '2012'),\n",
       " (555576567, 'Thoondi Area', '2012'),\n",
       " (555566861, 'Moutere Hauriri / Bounty Islands', '2014'),\n",
       " (555566860, 'Moutere Mahue / Antipodes Island', '2014'),\n",
       " (555566859, 'Moutere Ihupuku / Campbell Island', '2014'),\n",
       " (555556908, 'Western Kangaroo Island - National Park Zone', '2018-07-01'),\n",
       " (555556907, 'Western Eyre - National Park Zone', '2018-07-01'),\n",
       " (555556906, 'West Cape York - National Park Zone', '2018-07-01'),\n",
       " (555556904, 'Two Rocks - National Park Zone', '2018-07-01'),\n",
       " (555556903, 'Twilight', '2018-07-01'),\n",
       " (555556901, 'South-west Corner - National Park Zone', '2018-07-01'),\n",
       " (555556900, 'Solitary Islands - National Park Zone', '2018-07-01'),\n",
       " (555556897, 'Perth Canyon - National Park Zone', '2018-07-01'),\n",
       " (555556895, 'Norfolk - National Park Zone', '2018-07-01'),\n",
       " (555556894, 'Ningaloo', '2018-07-01'),\n",
       " (555556893, 'Murat - National Park Zone', '2018-07-01'),\n",
       " (555556891, 'Mermaid Reef - National Park Zone', '2018-07-01'),\n",
       " (555556890, 'Lord Howe - National Park Zone', '2018-07-01'),\n",
       " (555556888, 'Kimberley - National Park Zone', '2018-07-01'),\n",
       " (555556887, 'Jurien - National Park Zone', '2018-07-01'),\n",
       " (555556883, 'Gulf of Carpentaria - National Park Zone', '2018-07-01'),\n",
       " (555556879, 'Gascoyne - National Park Zone', '2018-07-01'),\n",
       " (555556877, 'Eastern Recherche - National Park Zone', '2018-07-01'),\n",
       " (555556876, 'Dampier - National Park Zone', '2018-07-01'),\n",
       " (555556874, 'Central Eastern - National Park Zone', '2018-07-01'),\n",
       " (555556871, 'Bremer - National Park Zone', '2018-07-01'),\n",
       " (555556868, 'Argo-Rowley Terrace - National Park Zone', '2018-07-01'),\n",
       " (555556866, 'Abrolhos - National Park Zone', '2018-07-01'),\n",
       " (555558346, 'Namuncurá - Banco Burdwood [Core Zone]', '2013'),\n",
       " (0, 'Goat Island Flash Sanctuary', '2014'),\n",
       " (555587195, 'Palaster Reef Sanctuary', '2014-08-01'),\n",
       " (0, 'Goat Point Sanctuary', '2014'),\n",
       " (0, 'Low Bay Sanctuary', '2014'),\n",
       " (0, 'Two Foot Bay Sanctuary', '2014'),\n",
       " (0, 'Hikurangi', '2014-03-16'),\n",
       " (0, 'Akaroa', '2014'),\n",
       " (0, 'Cape Falcon', '2016-01-01'),\n",
       " (555624172, 'Pitcairn Islands', '2016'),\n",
       " (555624169, 'Nazca-Desventuradas', '2015-10-05'),\n",
       " (0, 'Russian Arctic (Franz Josef Land)', '2016-08-25'),\n",
       " (555624810,\n",
       "  'Ross Sea Region [General Protection Zone (i) Ross Sea shelf/slope and Balleny Islands]',\n",
       "  '2017-12-01'),\n",
       " (478591, 'Parque Estadual Do Prelado', '2013'),\n",
       " (354087, 'Murray - National Park Zone', '2013-07-01'),\n",
       " (354083, 'Freycinet - Marine National Park Zone', '2013-07-01'),\n",
       " (354081, 'Flinders - Marine National Park Zone', '2013-07-01'),\n",
       " (351774, 'Parque Nacional De Jericoacoara', '2013')]"
      ]
     },
     "execution_count": 72,
     "metadata": {},
     "output_type": "execute_result"
    }
   ],
   "source": [
    "of_interest"
   ]
  },
  {
   "cell_type": "code",
   "execution_count": null,
   "metadata": {},
   "outputs": [],
   "source": [
    "\n",
    "\n",
    "if False:\n",
    "    wdpa_id, name, date = of_interest[0]\n",
    "    print(name)\n",
    "    mpa = mpas[mpas['wdpa_id'] == wdpa_id]\n",
    "    # util.analyze_mpa(geopoints_sampled, points_by_year, mpa, date, plot_pre_post=False, verbose=True)\n",
    "\n",
    "    # cProfile.run(\"util.analyze_mpa(geopoints_sampled, points_by_year, mpa, date, plot_pre_post=False)\")"
   ]
  },
  {
   "cell_type": "code",
   "execution_count": 59,
   "metadata": {},
   "outputs": [
    {
     "name": "stdout",
     "output_type": "stream",
     "text": [
      "1/114 Phoenix Island Protected Area                                                      running sjoin... \n",
      "found 648 sampled points in the mpa from 132 ships\n",
      "found 2239476 points of mpa ships\n",
      "2/114 Lebyazh`i ostrova                                                      running sjoin... \n",
      "found 0 sampled points in the mpa from 0 ships\n",
      "exiting: found no points\n",
      "3/114 Vostok Finskogo zaliva (Ingermanlandskij)                                                      running sjoin... \n",
      "found 0 sampled points in the mpa from 0 ships\n",
      "exiting: found no points\n",
      "4/114 Medvezh`i ostrova                                                      running sjoin... \n",
      "found 0 sampled points in the mpa from 0 ships\n",
      "exiting: found no points\n",
      "5/114 Ko Kam Yai Marine Fisheries Reserved Area                                                      running sjoin... \n",
      "found 0 sampled points in the mpa from 0 ships\n",
      "exiting: found no points\n",
      "6/114 Niue Moana Mahu Marine Protected Area                                                      running sjoin... \n",
      "found 19 sampled points in the mpa from 9 ships\n",
      "found 90970 points of mpa ships\n"
     ]
    },
    {
     "ename": "TypeError",
     "evalue": "Invalid comparison between dtype=datetime64[ns] and NoneType",
     "output_type": "error",
     "traceback": [
      "\u001b[0;31m---------------------------------------------------------------------------\u001b[0m",
      "\u001b[0;31mInvalidComparison\u001b[0m                         Traceback (most recent call last)",
      "File \u001b[0;32m/opt/homebrew/lib/python3.9/site-packages/pandas/core/arrays/datetimelike.py:1008\u001b[0m, in \u001b[0;36mDatetimeLikeArrayMixin._cmp_method\u001b[0;34m(self, other, op)\u001b[0m\n\u001b[1;32m   1007\u001b[0m \u001b[38;5;28;01mtry\u001b[39;00m:\n\u001b[0;32m-> 1008\u001b[0m     other \u001b[38;5;241m=\u001b[39m \u001b[38;5;28;43mself\u001b[39;49m\u001b[38;5;241;43m.\u001b[39;49m\u001b[43m_validate_comparison_value\u001b[49m\u001b[43m(\u001b[49m\u001b[43mother\u001b[49m\u001b[43m)\u001b[49m\n\u001b[1;32m   1009\u001b[0m \u001b[38;5;28;01mexcept\u001b[39;00m InvalidComparison:\n",
      "File \u001b[0;32m/opt/homebrew/lib/python3.9/site-packages/pandas/core/arrays/datetimelike.py:546\u001b[0m, in \u001b[0;36mDatetimeLikeArrayMixin._validate_comparison_value\u001b[0;34m(self, other)\u001b[0m\n\u001b[1;32m    545\u001b[0m \u001b[38;5;28;01melif\u001b[39;00m \u001b[38;5;129;01mnot\u001b[39;00m is_list_like(other):\n\u001b[0;32m--> 546\u001b[0m     \u001b[38;5;28;01mraise\u001b[39;00m InvalidComparison(other)\n\u001b[1;32m    548\u001b[0m \u001b[38;5;28;01melif\u001b[39;00m \u001b[38;5;28mlen\u001b[39m(other) \u001b[38;5;241m!=\u001b[39m \u001b[38;5;28mlen\u001b[39m(\u001b[38;5;28mself\u001b[39m):\n",
      "\u001b[0;31mInvalidComparison\u001b[0m: None",
      "\nDuring handling of the above exception, another exception occurred:\n",
      "\u001b[0;31mTypeError\u001b[0m                                 Traceback (most recent call last)",
      "Input \u001b[0;32mIn [59]\u001b[0m, in \u001b[0;36m<module>\u001b[0;34m\u001b[0m\n\u001b[1;32m      6\u001b[0m \u001b[38;5;28mprint\u001b[39m(\u001b[38;5;124mf\u001b[39m\u001b[38;5;124m'\u001b[39m\u001b[38;5;130;01m\\r\u001b[39;00m\u001b[38;5;132;01m{\u001b[39;00mj\u001b[38;5;132;01m}\u001b[39;00m\u001b[38;5;124m/\u001b[39m\u001b[38;5;132;01m{\u001b[39;00m\u001b[38;5;28mlen\u001b[39m(of_interest)\u001b[38;5;132;01m}\u001b[39;00m\u001b[38;5;124m \u001b[39m\u001b[38;5;132;01m{\u001b[39;00mname\u001b[38;5;132;01m}\u001b[39;00m\u001b[38;5;124m                                                      \u001b[39m\u001b[38;5;124m'\u001b[39m, end\u001b[38;5;241m=\u001b[39m\u001b[38;5;124m'\u001b[39m\u001b[38;5;124m'\u001b[39m)\n\u001b[1;32m      7\u001b[0m mpa \u001b[38;5;241m=\u001b[39m mpas[mpas[\u001b[38;5;124m'\u001b[39m\u001b[38;5;124mwdpa_id\u001b[39m\u001b[38;5;124m'\u001b[39m] \u001b[38;5;241m==\u001b[39m wdpa_id]\n\u001b[0;32m----> 8\u001b[0m returned \u001b[38;5;241m=\u001b[39m \u001b[43mutil\u001b[49m\u001b[38;5;241;43m.\u001b[39;49m\u001b[43manalyze_mpa\u001b[49m\u001b[43m(\u001b[49m\u001b[43mgeopoints_sampled\u001b[49m\u001b[43m,\u001b[49m\u001b[43m \u001b[49m\u001b[43mpoints_by_year\u001b[49m\u001b[43m,\u001b[49m\u001b[43m \u001b[49m\u001b[43mmpa\u001b[49m\u001b[43m,\u001b[49m\u001b[43m \u001b[49m\u001b[43mdate\u001b[49m\u001b[43m,\u001b[49m\u001b[43m \u001b[49m\u001b[43mplot_pre_post\u001b[49m\u001b[38;5;241;43m=\u001b[39;49m\u001b[38;5;28;43;01mFalse\u001b[39;49;00m\u001b[43m,\u001b[49m\u001b[43m \u001b[49m\u001b[43mverbose\u001b[49m\u001b[38;5;241;43m=\u001b[39;49m\u001b[38;5;28;43;01mTrue\u001b[39;49;00m\u001b[43m)\u001b[49m\n\u001b[1;32m      9\u001b[0m \u001b[38;5;28;01mif\u001b[39;00m returned:\n\u001b[1;32m     10\u001b[0m     table, pre, post, points \u001b[38;5;241m=\u001b[39m returned\n",
      "File \u001b[0;32m~/Documents/mpa_project/gfw_research/util/analyze.py:112\u001b[0m, in \u001b[0;36manalyze_mpa\u001b[0;34m(geopoints_sampled, points_by_year, mpa, date, plot_pre_post, verbose)\u001b[0m\n\u001b[1;32m    109\u001b[0m \u001b[38;5;28;01mif\u001b[39;00m points_of_mpa_ships \u001b[38;5;129;01mis\u001b[39;00m \u001b[38;5;28;01mNone\u001b[39;00m:\n\u001b[1;32m    110\u001b[0m     \u001b[38;5;28;01mreturn\u001b[39;00m\n\u001b[0;32m--> 112\u001b[0m table \u001b[38;5;241m=\u001b[39m \u001b[43mtable_of_in_out_pre_post\u001b[49m\u001b[43m(\u001b[49m\u001b[43mpoints_of_mpa_ships\u001b[49m\u001b[43m,\u001b[49m\u001b[43m \u001b[49m\u001b[43mmpa\u001b[49m\u001b[43m,\u001b[49m\u001b[43m \u001b[49m\u001b[43mdate\u001b[49m\u001b[43m,\u001b[49m\u001b[43m)\u001b[49m\u001b[38;5;241m.\u001b[39msort_values(\u001b[38;5;124m'\u001b[39m\u001b[38;5;124min_pre\u001b[39m\u001b[38;5;124m'\u001b[39m, ascending\u001b[38;5;241m=\u001b[39m\u001b[38;5;28;01mFalse\u001b[39;00m)\n\u001b[1;32m    114\u001b[0m pre \u001b[38;5;241m=\u001b[39m convert_to_geo(\n\u001b[1;32m    115\u001b[0m     join_on_lat_lon(points_of_mpa_ships[points_of_mpa_ships[\u001b[38;5;124m'\u001b[39m\u001b[38;5;124mdate\u001b[39m\u001b[38;5;124m'\u001b[39m] \u001b[38;5;241m<\u001b[39m date]), box\u001b[38;5;241m=\u001b[39m\u001b[38;5;28;01mTrue\u001b[39;00m)\n\u001b[1;32m    116\u001b[0m post \u001b[38;5;241m=\u001b[39m convert_to_geo(\n\u001b[1;32m    117\u001b[0m     join_on_lat_lon(points_of_mpa_ships[points_of_mpa_ships[\u001b[38;5;124m'\u001b[39m\u001b[38;5;124mdate\u001b[39m\u001b[38;5;124m'\u001b[39m] \u001b[38;5;241m>\u001b[39m\u001b[38;5;241m=\u001b[39m date]), box\u001b[38;5;241m=\u001b[39m\u001b[38;5;28;01mTrue\u001b[39;00m)\n",
      "File \u001b[0;32m~/Documents/mpa_project/gfw_research/util/analyze.py:51\u001b[0m, in \u001b[0;36mtable_of_in_out_pre_post\u001b[0;34m(points_of_mpa_ships, mpa, date)\u001b[0m\n\u001b[1;32m     42\u001b[0m \u001b[38;5;124;03m\"\"\"\u001b[39;00m\n\u001b[1;32m     43\u001b[0m \u001b[38;5;124;03mReturns a table with total fishing hours in/out of the mpa\u001b[39;00m\n\u001b[1;32m     44\u001b[0m \u001b[38;5;124;03m\u001b[39;00m\n\u001b[0;32m   (...)\u001b[0m\n\u001b[1;32m     48\u001b[0m \u001b[38;5;124;03mTries to take advantage of table groupby and aggregation to do this.\u001b[39;00m\n\u001b[1;32m     49\u001b[0m \u001b[38;5;124;03m\"\"\"\u001b[39;00m\n\u001b[1;32m     50\u001b[0m geopoints_ \u001b[38;5;241m=\u001b[39m convert_to_geo(points_of_mpa_ships, box\u001b[38;5;241m=\u001b[39m\u001b[38;5;28;01mTrue\u001b[39;00m)\n\u001b[0;32m---> 51\u001b[0m geopoints_[\u001b[38;5;124m'\u001b[39m\u001b[38;5;124mpre\u001b[39m\u001b[38;5;124m'\u001b[39m] \u001b[38;5;241m=\u001b[39m \u001b[43mgeopoints_\u001b[49m\u001b[43m[\u001b[49m\u001b[38;5;124;43m'\u001b[39;49m\u001b[38;5;124;43mdate\u001b[39;49m\u001b[38;5;124;43m'\u001b[39;49m\u001b[43m]\u001b[49m\u001b[43m \u001b[49m\u001b[38;5;241;43m<\u001b[39;49m\u001b[43m \u001b[49m\u001b[43mdate\u001b[49m\n\u001b[1;32m     52\u001b[0m \u001b[38;5;66;03m# fastest way to do this is just this whole join:\u001b[39;00m\n\u001b[1;32m     53\u001b[0m geopoints_[\u001b[38;5;124m'\u001b[39m\u001b[38;5;124min_mpa\u001b[39m\u001b[38;5;124m'\u001b[39m] \u001b[38;5;241m=\u001b[39m \u001b[38;5;241m~\u001b[39mgeopandas\u001b[38;5;241m.\u001b[39msjoin(geopoints_, mpa[[\u001b[38;5;124m'\u001b[39m\u001b[38;5;124mgeometry\u001b[39m\u001b[38;5;124m'\u001b[39m]], how\u001b[38;5;241m=\u001b[39m\u001b[38;5;124m'\u001b[39m\u001b[38;5;124mleft\u001b[39m\u001b[38;5;124m'\u001b[39m, predicate\u001b[38;5;241m=\u001b[39m\u001b[38;5;124m'\u001b[39m\u001b[38;5;124mwithin\u001b[39m\u001b[38;5;124m'\u001b[39m)[\u001b[38;5;124m'\u001b[39m\u001b[38;5;124mindex_right\u001b[39m\u001b[38;5;124m'\u001b[39m]\u001b[38;5;241m.\u001b[39misnull()\n",
      "File \u001b[0;32m/opt/homebrew/lib/python3.9/site-packages/pandas/core/ops/common.py:69\u001b[0m, in \u001b[0;36m_unpack_zerodim_and_defer.<locals>.new_method\u001b[0;34m(self, other)\u001b[0m\n\u001b[1;32m     65\u001b[0m             \u001b[38;5;28;01mreturn\u001b[39;00m \u001b[38;5;28mNotImplemented\u001b[39m\n\u001b[1;32m     67\u001b[0m other \u001b[38;5;241m=\u001b[39m item_from_zerodim(other)\n\u001b[0;32m---> 69\u001b[0m \u001b[38;5;28;01mreturn\u001b[39;00m \u001b[43mmethod\u001b[49m\u001b[43m(\u001b[49m\u001b[38;5;28;43mself\u001b[39;49m\u001b[43m,\u001b[49m\u001b[43m \u001b[49m\u001b[43mother\u001b[49m\u001b[43m)\u001b[49m\n",
      "File \u001b[0;32m/opt/homebrew/lib/python3.9/site-packages/pandas/core/arraylike.py:40\u001b[0m, in \u001b[0;36mOpsMixin.__lt__\u001b[0;34m(self, other)\u001b[0m\n\u001b[1;32m     38\u001b[0m \u001b[38;5;129m@unpack_zerodim_and_defer\u001b[39m(\u001b[38;5;124m\"\u001b[39m\u001b[38;5;124m__lt__\u001b[39m\u001b[38;5;124m\"\u001b[39m)\n\u001b[1;32m     39\u001b[0m \u001b[38;5;28;01mdef\u001b[39;00m \u001b[38;5;21m__lt__\u001b[39m(\u001b[38;5;28mself\u001b[39m, other):\n\u001b[0;32m---> 40\u001b[0m     \u001b[38;5;28;01mreturn\u001b[39;00m \u001b[38;5;28;43mself\u001b[39;49m\u001b[38;5;241;43m.\u001b[39;49m\u001b[43m_cmp_method\u001b[49m\u001b[43m(\u001b[49m\u001b[43mother\u001b[49m\u001b[43m,\u001b[49m\u001b[43m \u001b[49m\u001b[43moperator\u001b[49m\u001b[38;5;241;43m.\u001b[39;49m\u001b[43mlt\u001b[49m\u001b[43m)\u001b[49m\n",
      "File \u001b[0;32m/opt/homebrew/lib/python3.9/site-packages/pandas/core/series.py:5502\u001b[0m, in \u001b[0;36mSeries._cmp_method\u001b[0;34m(self, other, op)\u001b[0m\n\u001b[1;32m   5499\u001b[0m rvalues \u001b[38;5;241m=\u001b[39m extract_array(other, extract_numpy\u001b[38;5;241m=\u001b[39m\u001b[38;5;28;01mTrue\u001b[39;00m, extract_range\u001b[38;5;241m=\u001b[39m\u001b[38;5;28;01mTrue\u001b[39;00m)\n\u001b[1;32m   5501\u001b[0m \u001b[38;5;28;01mwith\u001b[39;00m np\u001b[38;5;241m.\u001b[39merrstate(\u001b[38;5;28mall\u001b[39m\u001b[38;5;241m=\u001b[39m\u001b[38;5;124m\"\u001b[39m\u001b[38;5;124mignore\u001b[39m\u001b[38;5;124m\"\u001b[39m):\n\u001b[0;32m-> 5502\u001b[0m     res_values \u001b[38;5;241m=\u001b[39m \u001b[43mops\u001b[49m\u001b[38;5;241;43m.\u001b[39;49m\u001b[43mcomparison_op\u001b[49m\u001b[43m(\u001b[49m\u001b[43mlvalues\u001b[49m\u001b[43m,\u001b[49m\u001b[43m \u001b[49m\u001b[43mrvalues\u001b[49m\u001b[43m,\u001b[49m\u001b[43m \u001b[49m\u001b[43mop\u001b[49m\u001b[43m)\u001b[49m\n\u001b[1;32m   5504\u001b[0m \u001b[38;5;28;01mreturn\u001b[39;00m \u001b[38;5;28mself\u001b[39m\u001b[38;5;241m.\u001b[39m_construct_result(res_values, name\u001b[38;5;241m=\u001b[39mres_name)\n",
      "File \u001b[0;32m/opt/homebrew/lib/python3.9/site-packages/pandas/core/ops/array_ops.py:270\u001b[0m, in \u001b[0;36mcomparison_op\u001b[0;34m(left, right, op)\u001b[0m\n\u001b[1;32m    261\u001b[0m         \u001b[38;5;28;01mraise\u001b[39;00m \u001b[38;5;167;01mValueError\u001b[39;00m(\n\u001b[1;32m    262\u001b[0m             \u001b[38;5;124m\"\u001b[39m\u001b[38;5;124mLengths must match to compare\u001b[39m\u001b[38;5;124m\"\u001b[39m, lvalues\u001b[38;5;241m.\u001b[39mshape, rvalues\u001b[38;5;241m.\u001b[39mshape\n\u001b[1;32m    263\u001b[0m         )\n\u001b[1;32m    265\u001b[0m \u001b[38;5;28;01mif\u001b[39;00m should_extension_dispatch(lvalues, rvalues) \u001b[38;5;129;01mor\u001b[39;00m (\n\u001b[1;32m    266\u001b[0m     (\u001b[38;5;28misinstance\u001b[39m(rvalues, (Timedelta, BaseOffset, Timestamp)) \u001b[38;5;129;01mor\u001b[39;00m right \u001b[38;5;129;01mis\u001b[39;00m NaT)\n\u001b[1;32m    267\u001b[0m     \u001b[38;5;129;01mand\u001b[39;00m \u001b[38;5;129;01mnot\u001b[39;00m is_object_dtype(lvalues\u001b[38;5;241m.\u001b[39mdtype)\n\u001b[1;32m    268\u001b[0m ):\n\u001b[1;32m    269\u001b[0m     \u001b[38;5;66;03m# Call the method on lvalues\u001b[39;00m\n\u001b[0;32m--> 270\u001b[0m     res_values \u001b[38;5;241m=\u001b[39m \u001b[43mop\u001b[49m\u001b[43m(\u001b[49m\u001b[43mlvalues\u001b[49m\u001b[43m,\u001b[49m\u001b[43m \u001b[49m\u001b[43mrvalues\u001b[49m\u001b[43m)\u001b[49m\n\u001b[1;32m    272\u001b[0m \u001b[38;5;28;01melif\u001b[39;00m is_scalar(rvalues) \u001b[38;5;129;01mand\u001b[39;00m isna(rvalues):\n\u001b[1;32m    273\u001b[0m     \u001b[38;5;66;03m# numpy does not like comparisons vs None\u001b[39;00m\n\u001b[1;32m    274\u001b[0m     \u001b[38;5;28;01mif\u001b[39;00m op \u001b[38;5;129;01mis\u001b[39;00m operator\u001b[38;5;241m.\u001b[39mne:\n",
      "File \u001b[0;32m/opt/homebrew/lib/python3.9/site-packages/pandas/core/ops/common.py:69\u001b[0m, in \u001b[0;36m_unpack_zerodim_and_defer.<locals>.new_method\u001b[0;34m(self, other)\u001b[0m\n\u001b[1;32m     65\u001b[0m             \u001b[38;5;28;01mreturn\u001b[39;00m \u001b[38;5;28mNotImplemented\u001b[39m\n\u001b[1;32m     67\u001b[0m other \u001b[38;5;241m=\u001b[39m item_from_zerodim(other)\n\u001b[0;32m---> 69\u001b[0m \u001b[38;5;28;01mreturn\u001b[39;00m \u001b[43mmethod\u001b[49m\u001b[43m(\u001b[49m\u001b[38;5;28;43mself\u001b[39;49m\u001b[43m,\u001b[49m\u001b[43m \u001b[49m\u001b[43mother\u001b[49m\u001b[43m)\u001b[49m\n",
      "File \u001b[0;32m/opt/homebrew/lib/python3.9/site-packages/pandas/core/arraylike.py:40\u001b[0m, in \u001b[0;36mOpsMixin.__lt__\u001b[0;34m(self, other)\u001b[0m\n\u001b[1;32m     38\u001b[0m \u001b[38;5;129m@unpack_zerodim_and_defer\u001b[39m(\u001b[38;5;124m\"\u001b[39m\u001b[38;5;124m__lt__\u001b[39m\u001b[38;5;124m\"\u001b[39m)\n\u001b[1;32m     39\u001b[0m \u001b[38;5;28;01mdef\u001b[39;00m \u001b[38;5;21m__lt__\u001b[39m(\u001b[38;5;28mself\u001b[39m, other):\n\u001b[0;32m---> 40\u001b[0m     \u001b[38;5;28;01mreturn\u001b[39;00m \u001b[38;5;28;43mself\u001b[39;49m\u001b[38;5;241;43m.\u001b[39;49m\u001b[43m_cmp_method\u001b[49m\u001b[43m(\u001b[49m\u001b[43mother\u001b[49m\u001b[43m,\u001b[49m\u001b[43m \u001b[49m\u001b[43moperator\u001b[49m\u001b[38;5;241;43m.\u001b[39;49m\u001b[43mlt\u001b[49m\u001b[43m)\u001b[49m\n",
      "File \u001b[0;32m/opt/homebrew/lib/python3.9/site-packages/pandas/core/arrays/datetimelike.py:1010\u001b[0m, in \u001b[0;36mDatetimeLikeArrayMixin._cmp_method\u001b[0;34m(self, other, op)\u001b[0m\n\u001b[1;32m   1008\u001b[0m     other \u001b[38;5;241m=\u001b[39m \u001b[38;5;28mself\u001b[39m\u001b[38;5;241m.\u001b[39m_validate_comparison_value(other)\n\u001b[1;32m   1009\u001b[0m \u001b[38;5;28;01mexcept\u001b[39;00m InvalidComparison:\n\u001b[0;32m-> 1010\u001b[0m     \u001b[38;5;28;01mreturn\u001b[39;00m \u001b[43minvalid_comparison\u001b[49m\u001b[43m(\u001b[49m\u001b[38;5;28;43mself\u001b[39;49m\u001b[43m,\u001b[49m\u001b[43m \u001b[49m\u001b[43mother\u001b[49m\u001b[43m,\u001b[49m\u001b[43m \u001b[49m\u001b[43mop\u001b[49m\u001b[43m)\u001b[49m\n\u001b[1;32m   1012\u001b[0m dtype \u001b[38;5;241m=\u001b[39m \u001b[38;5;28mgetattr\u001b[39m(other, \u001b[38;5;124m\"\u001b[39m\u001b[38;5;124mdtype\u001b[39m\u001b[38;5;124m\"\u001b[39m, \u001b[38;5;28;01mNone\u001b[39;00m)\n\u001b[1;32m   1013\u001b[0m \u001b[38;5;28;01mif\u001b[39;00m is_object_dtype(dtype):\n\u001b[1;32m   1014\u001b[0m     \u001b[38;5;66;03m# We have to use comp_method_OBJECT_ARRAY instead of numpy\u001b[39;00m\n\u001b[1;32m   1015\u001b[0m     \u001b[38;5;66;03m#  comparison otherwise it would fail to raise when\u001b[39;00m\n\u001b[1;32m   1016\u001b[0m     \u001b[38;5;66;03m#  comparing tz-aware and tz-naive\u001b[39;00m\n",
      "File \u001b[0;32m/opt/homebrew/lib/python3.9/site-packages/pandas/core/ops/invalid.py:34\u001b[0m, in \u001b[0;36minvalid_comparison\u001b[0;34m(left, right, op)\u001b[0m\n\u001b[1;32m     32\u001b[0m \u001b[38;5;28;01melse\u001b[39;00m:\n\u001b[1;32m     33\u001b[0m     typ \u001b[38;5;241m=\u001b[39m \u001b[38;5;28mtype\u001b[39m(right)\u001b[38;5;241m.\u001b[39m\u001b[38;5;18m__name__\u001b[39m\n\u001b[0;32m---> 34\u001b[0m     \u001b[38;5;28;01mraise\u001b[39;00m \u001b[38;5;167;01mTypeError\u001b[39;00m(\u001b[38;5;124mf\u001b[39m\u001b[38;5;124m\"\u001b[39m\u001b[38;5;124mInvalid comparison between dtype=\u001b[39m\u001b[38;5;132;01m{\u001b[39;00mleft\u001b[38;5;241m.\u001b[39mdtype\u001b[38;5;132;01m}\u001b[39;00m\u001b[38;5;124m and \u001b[39m\u001b[38;5;132;01m{\u001b[39;00mtyp\u001b[38;5;132;01m}\u001b[39;00m\u001b[38;5;124m\"\u001b[39m)\n\u001b[1;32m     35\u001b[0m \u001b[38;5;28;01mreturn\u001b[39;00m res_values\n",
      "\u001b[0;31mTypeError\u001b[0m: Invalid comparison between dtype=datetime64[ns] and NoneType"
     ]
    }
   ],
   "source": [
    "tables = pandas.DataFrame()\n",
    "summed_tables = pandas.DataFrame()\n",
    "j = 0\n",
    "for wdpa_id, name, date in of_interest:\n",
    "    j += 1\n",
    "    print(f'\\r{j}/{len(of_interest)} {name}                                                      ', end='')\n",
    "    mpa = mpas[mpas['wdpa_id'] == wdpa_id]\n",
    "    returned = util.analyze_mpa(geopoints_sampled, points_by_year, mpa, date, plot_pre_post=False, verbose=True)\n",
    "    if returned:\n",
    "        table, pre, post, points = returned\n",
    "        table.insert(0, 'name', name)\n",
    "        table.insert(1, 'wdpa_id', wdpa_id)\n",
    "        tables = tables.append(table)\n",
    "        \n",
    "        summed = table.groupby('name').aggregate({\n",
    "            'name': 'first',\n",
    "            'wdpa_id': 'first',\n",
    "            'mmsi': 'count',\n",
    "            'in_pre': 'sum',\n",
    "            'out_pre': 'sum',\n",
    "            'in_post': 'sum',\n",
    "            'out_post': 'sum'})\n",
    "        summed_tables = summed_tables.append(summed)\n",
    "    else:\n",
    "        pass\n",
    "        # summed_tables = summed_tables.append({'name': mpa.iloc[0]['name']}, ignore_index=True)"
   ]
  },
  {
   "cell_type": "code",
   "execution_count": null,
   "metadata": {},
   "outputs": [],
   "source": [
    "summed_tables"
   ]
  },
  {
   "cell_type": "code",
   "execution_count": null,
   "metadata": {},
   "outputs": [],
   "source": []
  }
 ],
 "metadata": {
  "kernelspec": {
   "display_name": "Python 3 (ipykernel)",
   "language": "python",
   "name": "python3"
  },
  "language_info": {
   "codemirror_mode": {
    "name": "ipython",
    "version": 3
   },
   "file_extension": ".py",
   "mimetype": "text/x-python",
   "name": "python",
   "nbconvert_exporter": "python",
   "pygments_lexer": "ipython3",
   "version": "3.9.10"
  }
 },
 "nbformat": 4,
 "nbformat_minor": 4
}
